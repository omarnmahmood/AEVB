{
 "cells": [
  {
   "cell_type": "code",
   "execution_count": 1,
   "metadata": {
    "scrolled": true
   },
   "outputs": [],
   "source": [
    "from torch.autograd import Variable\n",
    "\n",
    "import VAE_NN\n",
    "from torchvision import datasets, transforms\n",
    "import matplotlib.pyplot as plt\n",
    "import numpy as np"
   ]
  },
  {
   "cell_type": "code",
   "execution_count": 2,
   "metadata": {},
   "outputs": [],
   "source": [
    "from torch.optim import Adagrad"
   ]
  },
  {
   "cell_type": "code",
   "execution_count": 3,
   "metadata": {},
   "outputs": [
    {
     "name": "stdout",
     "output_type": "stream",
     "text": [
      "True\n",
      "Messing with weights\n",
      "Linear(in_features=784, out_features=200)\n",
      "Messing with weights\n",
      "Linear(in_features=200, out_features=20)\n",
      "Messing with weights\n",
      "Linear(in_features=200, out_features=20)\n",
      "Messing with weights\n",
      "Linear(in_features=20, out_features=200)\n",
      "Messing with weights\n",
      "Linear(in_features=200, out_features=784)\n",
      "Messing with weights\n",
      "Linear(in_features=200, out_features=784)\n",
      "Messing with weights\n",
      "VAE_Net(\n",
      "  (ei): Linear(in_features=784, out_features=200)\n",
      "  (em): Linear(in_features=200, out_features=20)\n",
      "  (ev): Linear(in_features=200, out_features=20)\n",
      "  (di): Linear(in_features=20, out_features=200)\n",
      "  (dom): Linear(in_features=200, out_features=784)\n",
      "  (dov): Linear(in_features=200, out_features=784)\n",
      ")\n"
     ]
    },
    {
     "data": {
      "text/plain": [
       "VAE_Net(\n",
       "  (ei): Linear(in_features=784, out_features=200)\n",
       "  (em): Linear(in_features=200, out_features=20)\n",
       "  (ev): Linear(in_features=200, out_features=20)\n",
       "  (di): Linear(in_features=20, out_features=200)\n",
       "  (dom): Linear(in_features=200, out_features=784)\n",
       "  (dov): Linear(in_features=200, out_features=784)\n",
       ")"
      ]
     },
     "execution_count": 3,
     "metadata": {},
     "output_type": "execute_result"
    }
   ],
   "source": [
    "test = VAE_NN.VAE_Net()\n",
    "test.apply(VAE_NN.init_weights)"
   ]
  },
  {
   "cell_type": "code",
   "execution_count": 4,
   "metadata": {},
   "outputs": [
    {
     "data": {
      "text/plain": [
       "VAE_Net(\n",
       "  (ei): Linear(in_features=784, out_features=200)\n",
       "  (em): Linear(in_features=200, out_features=20)\n",
       "  (ev): Linear(in_features=200, out_features=20)\n",
       "  (di): Linear(in_features=20, out_features=200)\n",
       "  (dom): Linear(in_features=200, out_features=784)\n",
       "  (dov): Linear(in_features=200, out_features=784)\n",
       ")"
      ]
     },
     "execution_count": 4,
     "metadata": {},
     "output_type": "execute_result"
    }
   ],
   "source": [
    "test.cuda()"
   ]
  },
  {
   "cell_type": "code",
   "execution_count": 5,
   "metadata": {},
   "outputs": [],
   "source": [
    "optimizer = Adagrad(test.parameters(),lr=1e-2)"
   ]
  },
  {
   "cell_type": "code",
   "execution_count": 6,
   "metadata": {},
   "outputs": [],
   "source": [
    "train_data,_ = VAE_NN.get_data_loaders(b_size=100)"
   ]
  },
  {
   "cell_type": "code",
   "execution_count": 7,
   "metadata": {},
   "outputs": [],
   "source": [
    "import time"
   ]
  },
  {
   "cell_type": "code",
   "execution_count": 8,
   "metadata": {
    "scrolled": false
   },
   "outputs": [
    {
     "name": "stderr",
     "output_type": "stream",
     "text": [
      "\r",
      "  0%|          | 0/100 [00:00<?, ?it/s]"
     ]
    },
    {
     "name": "stdout",
     "output_type": "stream",
     "text": [
      "recon_term_2 values\n",
      "Variable containing:\n",
      " 92.9748\n",
      " 92.9752\n",
      " 92.9735\n",
      " 92.9755\n",
      " 92.9764\n",
      " 92.9757\n",
      " 92.9756\n",
      " 92.9729\n",
      " 92.9744\n",
      " 92.9768\n",
      " 92.9760\n",
      " 92.9759\n",
      " 92.9753\n",
      " 92.9763\n",
      " 92.9739\n",
      " 92.9761\n",
      " 92.9761\n",
      " 92.9754\n",
      " 92.9760\n",
      " 92.9722\n",
      " 92.9771\n",
      " 92.9744\n",
      " 92.9760\n",
      " 92.9736\n",
      " 92.9745\n",
      " 92.9762\n",
      " 92.9747\n",
      " 92.9750\n",
      " 92.9751\n",
      " 92.9755\n",
      " 92.9743\n",
      " 92.9764\n",
      " 92.9743\n",
      " 92.9726\n",
      " 92.9745\n",
      " 92.9759\n",
      " 92.9753\n",
      " 92.9769\n",
      " 92.9757\n",
      " 92.9760\n",
      " 92.9755\n",
      " 92.9756\n",
      " 92.9727\n",
      " 92.9751\n",
      " 92.9746\n",
      " 92.9758\n",
      " 92.9764\n",
      " 92.9762\n",
      " 92.9763\n",
      " 92.9763\n",
      " 92.9757\n",
      " 92.9775\n",
      " 92.9751\n",
      " 92.9755\n",
      " 92.9727\n",
      " 92.9744\n",
      " 92.9757\n",
      " 92.9745\n",
      " 92.9738\n",
      " 92.9767\n",
      " 92.9734\n",
      " 92.9762\n",
      " 92.9756\n",
      " 92.9754\n",
      " 92.9757\n",
      " 92.9747\n",
      " 92.9749\n",
      " 92.9735\n",
      " 92.9765\n",
      " 92.9751\n",
      " 92.9733\n",
      " 92.9773\n",
      " 92.9758\n",
      " 92.9750\n",
      " 92.9768\n",
      " 92.9736\n",
      " 92.9742\n",
      " 92.9752\n",
      " 92.9749\n",
      " 92.9760\n",
      " 92.9755\n",
      " 92.9753\n",
      " 92.9762\n",
      " 92.9753\n",
      " 92.9743\n",
      " 92.9755\n",
      " 92.9744\n",
      " 92.9768\n",
      " 92.9744\n",
      " 92.9754\n",
      " 92.9750\n",
      " 92.9758\n",
      " 92.9760\n",
      " 92.9755\n",
      " 92.9754\n",
      " 92.9748\n",
      " 92.9758\n",
      " 92.9730\n",
      " 92.9768\n",
      " 92.9724\n",
      "[torch.cuda.FloatTensor of size 100 (GPU 0)]\n",
      "\n",
      "Batch Training Loss is: 277.518921\n",
      "Train Epoch: 0 [0/60000 (0%)]\tLoss: 277.518921\n",
      "recon_term_2 values\n",
      "Variable containing:\n",
      "-inf\n",
      "-inf\n",
      "-inf\n",
      "-inf\n",
      "-inf\n",
      "-inf\n",
      "-inf\n",
      "-inf\n",
      "-inf\n",
      "-inf\n",
      "-inf\n",
      "-inf\n",
      "-inf\n",
      "-inf\n",
      "-inf\n",
      "-inf\n",
      "-inf\n",
      "-inf\n",
      "-inf\n",
      "-inf\n",
      "-inf\n",
      "-inf\n",
      "-inf\n",
      "-inf\n",
      "-inf\n",
      "-inf\n",
      "-inf\n",
      "-inf\n",
      "-inf\n",
      "-inf\n",
      "-inf\n",
      "-inf\n",
      "-inf\n",
      "-inf\n",
      "-inf\n",
      "-inf\n",
      "-inf\n",
      "-inf\n",
      "-inf\n",
      "-inf\n",
      "-inf\n",
      "-inf\n",
      "-inf\n",
      "-inf\n",
      "-inf\n",
      "-inf\n",
      "-inf\n",
      "-inf\n",
      "-inf\n",
      "-inf\n",
      "-inf\n",
      "-inf\n",
      "-inf\n",
      "-inf\n",
      "-inf\n",
      "-inf\n",
      "-inf\n",
      "-inf\n",
      "-inf\n",
      "-inf\n",
      "-inf\n",
      "-inf\n",
      "-inf\n",
      "-inf\n",
      "-inf\n",
      "-inf\n",
      "-inf\n",
      "-inf\n",
      "-inf\n",
      "-inf\n",
      "-inf\n",
      "-inf\n",
      "-inf\n",
      "-inf\n",
      "-inf\n",
      "-inf\n",
      "-inf\n",
      "-inf\n",
      "-inf\n",
      "-inf\n",
      "-inf\n",
      "-inf\n",
      "-inf\n",
      "-inf\n",
      "-inf\n",
      "-inf\n",
      "-inf\n",
      "-inf\n",
      "-inf\n",
      "-inf\n",
      "-inf\n",
      "-inf\n",
      "-inf\n",
      "-inf\n",
      "-inf\n",
      "-inf\n",
      "-inf\n",
      "-inf\n",
      "-inf\n",
      "-inf\n",
      "[torch.cuda.FloatTensor of size 100 (GPU 0)]\n",
      "\n"
     ]
    },
    {
     "name": "stderr",
     "output_type": "stream",
     "text": [
      "\n"
     ]
    },
    {
     "ename": "RuntimeError",
     "evalue": "value cannot be converted to type double without overflow: -inf",
     "output_type": "error",
     "traceback": [
      "\u001b[0;31m---------------------------------------------------------------------------\u001b[0m",
      "\u001b[0;31mRuntimeError\u001b[0m                              Traceback (most recent call last)",
      "\u001b[0;32m<ipython-input-8-cb464ca49be5>\u001b[0m in \u001b[0;36m<module>\u001b[0;34m()\u001b[0m\n\u001b[1;32m      1\u001b[0m \u001b[0mt\u001b[0m \u001b[0;34m=\u001b[0m \u001b[0mtime\u001b[0m\u001b[0;34m.\u001b[0m\u001b[0mtime\u001b[0m\u001b[0;34m(\u001b[0m\u001b[0;34m)\u001b[0m\u001b[0;34m\u001b[0m\u001b[0m\n\u001b[1;32m      2\u001b[0m \u001b[0mep\u001b[0m \u001b[0;34m=\u001b[0m \u001b[0;36m100\u001b[0m\u001b[0;34m\u001b[0m\u001b[0m\n\u001b[0;32m----> 3\u001b[0;31m \u001b[0mVAE_NN\u001b[0m\u001b[0;34m.\u001b[0m\u001b[0mtrain\u001b[0m\u001b[0;34m(\u001b[0m\u001b[0mtest\u001b[0m\u001b[0;34m,\u001b[0m\u001b[0moptimizer\u001b[0m\u001b[0;34m,\u001b[0m\u001b[0mtrain_data\u001b[0m\u001b[0;34m,\u001b[0m \u001b[0mVAE_NN\u001b[0m\u001b[0;34m.\u001b[0m\u001b[0melbo_loss\u001b[0m\u001b[0;34m,\u001b[0m \u001b[0mepochs\u001b[0m \u001b[0;34m=\u001b[0m \u001b[0mep\u001b[0m\u001b[0;34m)\u001b[0m\u001b[0;34m\u001b[0m\u001b[0m\n\u001b[0m\u001b[1;32m      4\u001b[0m \u001b[0mt_e\u001b[0m \u001b[0;34m=\u001b[0m \u001b[0mtime\u001b[0m\u001b[0;34m.\u001b[0m\u001b[0mtime\u001b[0m\u001b[0;34m(\u001b[0m\u001b[0;34m)\u001b[0m \u001b[0;34m-\u001b[0m \u001b[0mt\u001b[0m\u001b[0;34m\u001b[0m\u001b[0m\n\u001b[1;32m      5\u001b[0m \u001b[0mprint\u001b[0m\u001b[0;34m(\u001b[0m\u001b[0;34m'Seconds for %d epcohs: %d'\u001b[0m \u001b[0;34m%\u001b[0m \u001b[0;34m(\u001b[0m\u001b[0mep\u001b[0m\u001b[0;34m,\u001b[0m\u001b[0mt_e\u001b[0m\u001b[0;34m)\u001b[0m\u001b[0;34m)\u001b[0m\u001b[0;34m\u001b[0m\u001b[0m\n",
      "\u001b[0;32m/remote/mlsalt-2017/ac2123/MLSALT4/AEVB/VAE_NN.py\u001b[0m in \u001b[0;36mtrain\u001b[0;34m(model, optimizer, train_loader, loss_func, epochs, show_prog)\u001b[0m\n\u001b[1;32m    189\u001b[0m            \u001b[0;31m# print(\"Size of e_var\"+\" \"+str(e_var.size()))\u001b[0m\u001b[0;34m\u001b[0m\u001b[0;34m\u001b[0m\u001b[0m\n\u001b[1;32m    190\u001b[0m             \u001b[0;31m# loss = loss_func(mu, var, data, out_m) # get the loss : Original by Phill\u001b[0m\u001b[0;34m\u001b[0m\u001b[0;34m\u001b[0m\u001b[0m\n\u001b[0;32m--> 191\u001b[0;31m             \u001b[0mloss\u001b[0m \u001b[0;34m=\u001b[0m \u001b[0mloss_func\u001b[0m\u001b[0;34m(\u001b[0m\u001b[0me_mu\u001b[0m\u001b[0;34m,\u001b[0m\u001b[0me_var\u001b[0m\u001b[0;34m,\u001b[0m\u001b[0mdata\u001b[0m\u001b[0;34m,\u001b[0m\u001b[0mout_m\u001b[0m\u001b[0;34m,\u001b[0m\u001b[0mout_v\u001b[0m\u001b[0;34m)\u001b[0m \u001b[0;31m# Changed by Alex\u001b[0m\u001b[0;34m\u001b[0m\u001b[0m\n\u001b[0m\u001b[1;32m    192\u001b[0m             \u001b[0mloss\u001b[0m\u001b[0;34m.\u001b[0m\u001b[0mbackward\u001b[0m\u001b[0;34m(\u001b[0m\u001b[0;34m)\u001b[0m \u001b[0;31m# back prop the loss\u001b[0m\u001b[0;34m\u001b[0m\u001b[0m\n\u001b[1;32m    193\u001b[0m             \u001b[0moptimizer\u001b[0m\u001b[0;34m.\u001b[0m\u001b[0mstep\u001b[0m\u001b[0;34m(\u001b[0m\u001b[0;34m)\u001b[0m    \u001b[0;31m# increment the optimizer based on the loss (a.k.a update params?)\u001b[0m\u001b[0;34m\u001b[0m\u001b[0m\n",
      "\u001b[0;32m/remote/mlsalt-2017/ac2123/MLSALT4/AEVB/VAE_NN.py\u001b[0m in \u001b[0;36melbo_loss\u001b[0;34m(mu_e, logvar_e, x, mu_d, logvar_d)\u001b[0m\n\u001b[1;32m    131\u001b[0m     \u001b[0mprint\u001b[0m\u001b[0;34m(\u001b[0m\u001b[0;34m\"recon_term_2 values\"\u001b[0m\u001b[0;34m)\u001b[0m\u001b[0;34m\u001b[0m\u001b[0m\n\u001b[1;32m    132\u001b[0m     \u001b[0mprint\u001b[0m\u001b[0;34m(\u001b[0m\u001b[0mrecon_term_2\u001b[0m\u001b[0;34m)\u001b[0m\u001b[0;34m\u001b[0m\u001b[0m\n\u001b[0;32m--> 133\u001b[0;31m     \u001b[0mRecon_part\u001b[0m \u001b[0;34m=\u001b[0m \u001b[0;36m0.01\u001b[0m\u001b[0;34m*\u001b[0m\u001b[0;34m(\u001b[0m\u001b[0mrecon_term_1\u001b[0m \u001b[0;34m+\u001b[0m \u001b[0mrecon_term_2\u001b[0m\u001b[0;34m)\u001b[0m\u001b[0;34m.\u001b[0m\u001b[0msum\u001b[0m\u001b[0;34m(\u001b[0m\u001b[0;34m)\u001b[0m\u001b[0;34m\u001b[0m\u001b[0m\n\u001b[0m\u001b[1;32m    134\u001b[0m    \u001b[0;31m# Recon_part = 0.01*(recon_term_1).sum()\u001b[0m\u001b[0;34m\u001b[0m\u001b[0;34m\u001b[0m\u001b[0m\n\u001b[1;32m    135\u001b[0m    \u001b[0;31m# print(\"Size of recon_term_1 is:\"+\" \"+str(recon_term_1.size()))\u001b[0m\u001b[0;34m\u001b[0m\u001b[0;34m\u001b[0m\u001b[0m\n",
      "\u001b[0;31mRuntimeError\u001b[0m: value cannot be converted to type double without overflow: -inf"
     ]
    }
   ],
   "source": [
    "t = time.time()\n",
    "ep = 100\n",
    "VAE_NN.train(test,optimizer,train_data, VAE_NN.elbo_loss, epochs = ep)\n",
    "t_e = time.time() - t\n",
    "print('Seconds for %d epcohs: %d' % (ep,t_e))"
   ]
  },
  {
   "cell_type": "code",
   "execution_count": null,
   "metadata": {},
   "outputs": [],
   "source": [
    "t_data,_ = next(iter(train_data))"
   ]
  },
  {
   "cell_type": "code",
   "execution_count": null,
   "metadata": {},
   "outputs": [],
   "source": [
    "t_data = Variable(t_data).view(-1,784)"
   ]
  },
  {
   "cell_type": "code",
   "execution_count": null,
   "metadata": {},
   "outputs": [],
   "source": [
    "i = 3"
   ]
  },
  {
   "cell_type": "code",
   "execution_count": null,
   "metadata": {
    "scrolled": false
   },
   "outputs": [],
   "source": [
    "plt.imshow(np.reshape(t_data[i].data.cpu().numpy(),(28,28)), cmap='gray')\n",
    "plt.show()"
   ]
  },
  {
   "cell_type": "markdown",
   "metadata": {},
   "source": [
    "Try to reconstruct the above:"
   ]
  },
  {
   "cell_type": "code",
   "execution_count": null,
   "metadata": {},
   "outputs": [],
   "source": [
    "a,b,c = test(t_data[i].cuda())\n",
    "\n",
    "im_t = a\n",
    "\n",
    "im_t = im_t.data.cpu().numpy()\n",
    "\n",
    "plt.imshow(np.reshape(im_t,(28,28)),cmap='gray')\n",
    "plt.show()"
   ]
  },
  {
   "cell_type": "markdown",
   "metadata": {},
   "source": [
    "The below generates an image from white noise"
   ]
  },
  {
   "cell_type": "code",
   "execution_count": null,
   "metadata": {
    "scrolled": true
   },
   "outputs": [],
   "source": [
    "a = test.sample()\n",
    "\n",
    "a = test.decode(a)\n",
    "\n",
    "im_t = a\n",
    "\n",
    "im_t = im_t.data.cpu().numpy()\n",
    "\n",
    "plt.imshow(np.reshape(im_t,(28,28)),cmap='gray')\n",
    "plt.show()"
   ]
  }
 ],
 "metadata": {
  "kernelspec": {
   "display_name": "Python 3",
   "language": "python",
   "name": "python3"
  },
  "language_info": {
   "codemirror_mode": {
    "name": "ipython",
    "version": 3
   },
   "file_extension": ".py",
   "mimetype": "text/x-python",
   "name": "python",
   "nbconvert_exporter": "python",
   "pygments_lexer": "ipython3",
   "version": "3.6.4"
  }
 },
 "nbformat": 4,
 "nbformat_minor": 2
}
