{
 "cells": [
  {
   "cell_type": "code",
   "execution_count": 2,
   "metadata": {
    "collapsed": true,
    "scrolled": true
   },
   "outputs": [],
   "source": [
    "from torch.autograd import Variable\n",
    "\n",
    "import VAE_NN\n",
    "from torchvision import datasets, transforms\n",
    "import matplotlib.pyplot as plt\n",
    "import numpy as np"
   ]
  },
  {
   "cell_type": "code",
   "execution_count": 3,
   "metadata": {
    "collapsed": true
   },
   "outputs": [],
   "source": [
    "from torch.optim import Adagrad"
   ]
  },
  {
   "cell_type": "code",
   "execution_count": 4,
   "metadata": {
    "collapsed": true
   },
   "outputs": [],
   "source": [
    "test = VAE_NN.VAE_Net()\n",
    "# Potentially apply weight initialisation here if we don't do it inside the VAE class"
   ]
  },
  {
   "cell_type": "code",
   "execution_count": 5,
   "metadata": {},
   "outputs": [
    {
     "data": {
      "text/plain": [
       "VAE_Net(\n",
       "  (ei): Linear(in_features=784, out_features=500)\n",
       "  (em): Linear(in_features=500, out_features=20)\n",
       "  (ev): Linear(in_features=500, out_features=20)\n",
       "  (di): Linear(in_features=20, out_features=500)\n",
       "  (do): Linear(in_features=500, out_features=784)\n",
       ")"
      ]
     },
     "execution_count": 5,
     "metadata": {},
     "output_type": "execute_result"
    }
   ],
   "source": [
    "test.cuda()"
   ]
  },
  {
   "cell_type": "code",
   "execution_count": 6,
   "metadata": {
    "collapsed": true
   },
   "outputs": [],
   "source": [
    "optimizer = Adagrad(test.parameters(),lr=1e-2)"
   ]
  },
  {
   "cell_type": "code",
   "execution_count": 7,
   "metadata": {},
   "outputs": [
    {
     "name": "stdout",
     "output_type": "stream",
     "text": [
      "Downloading http://yann.lecun.com/exdb/mnist/train-images-idx3-ubyte.gz\n",
      "Downloading http://yann.lecun.com/exdb/mnist/train-labels-idx1-ubyte.gz\n",
      "Downloading http://yann.lecun.com/exdb/mnist/t10k-images-idx3-ubyte.gz\n",
      "Downloading http://yann.lecun.com/exdb/mnist/t10k-labels-idx1-ubyte.gz\n",
      "Processing...\n",
      "Done!\n"
     ]
    }
   ],
   "source": [
    "train_data,_ = VAE_NN.get_data_loaders(b_size=128)"
   ]
  },
  {
   "cell_type": "code",
   "execution_count": 8,
   "metadata": {
    "collapsed": true
   },
   "outputs": [],
   "source": [
    "import time"
   ]
  },
  {
   "cell_type": "code",
   "execution_count": 8,
   "metadata": {
    "scrolled": true
   },
   "outputs": [
    {
     "name": "stderr",
     "output_type": "stream",
     "text": [
      "\r",
      "  0%|          | 0/100 [00:00<?, ?it/s]"
     ]
    },
    {
     "name": "stdout",
     "output_type": "stream",
     "text": [
      "Train Epoch: 0 [0/60000 (0%)]\tLoss: 71238.164062\n",
      "Train Epoch: 0 [12800/60000 (21%)]\tLoss: 25077.691406\n",
      "Train Epoch: 0 [25600/60000 (43%)]\tLoss: 24367.503906\n",
      "Train Epoch: 0 [38400/60000 (64%)]\tLoss: 22750.990234\n",
      "Train Epoch: 0 [51200/60000 (85%)]\tLoss: 21603.566406\n"
     ]
    },
    {
     "name": "stderr",
     "output_type": "stream",
     "text": [
      "\r",
      "  1%|          | 1/100 [00:06<11:31,  6.98s/it]"
     ]
    },
    {
     "name": "stdout",
     "output_type": "stream",
     "text": [
      "Train Epoch: 1 [0/60000 (0%)]\tLoss: 21166.978516\n",
      "Train Epoch: 1 [12800/60000 (21%)]\tLoss: 20659.572266\n",
      "Train Epoch: 1 [25600/60000 (43%)]\tLoss: 21143.654297\n",
      "Train Epoch: 1 [38400/60000 (64%)]\tLoss: 20356.892578\n",
      "Train Epoch: 1 [51200/60000 (85%)]\tLoss: 20509.365234\n"
     ]
    },
    {
     "name": "stderr",
     "output_type": "stream",
     "text": [
      "\r",
      "  2%|▏         | 2/100 [00:13<11:19,  6.94s/it]"
     ]
    },
    {
     "name": "stdout",
     "output_type": "stream",
     "text": [
      "Train Epoch: 2 [0/60000 (0%)]\tLoss: 19806.835938\n",
      "Train Epoch: 2 [12800/60000 (21%)]\tLoss: 19786.804688\n",
      "Train Epoch: 2 [25600/60000 (43%)]\tLoss: 20537.869141\n",
      "Train Epoch: 2 [38400/60000 (64%)]\tLoss: 19316.470703\n",
      "Train Epoch: 2 [51200/60000 (85%)]\tLoss: 20774.287109\n"
     ]
    },
    {
     "name": "stderr",
     "output_type": "stream",
     "text": [
      "\r",
      "  3%|▎         | 3/100 [00:20<11:11,  6.92s/it]"
     ]
    },
    {
     "name": "stdout",
     "output_type": "stream",
     "text": [
      "Train Epoch: 3 [0/60000 (0%)]\tLoss: 19088.064453\n",
      "Train Epoch: 3 [12800/60000 (21%)]\tLoss: 18683.175781\n",
      "Train Epoch: 3 [25600/60000 (43%)]\tLoss: 19672.285156\n",
      "Train Epoch: 3 [38400/60000 (64%)]\tLoss: 18091.320312\n",
      "Train Epoch: 3 [51200/60000 (85%)]\tLoss: 19041.621094\n"
     ]
    },
    {
     "name": "stderr",
     "output_type": "stream",
     "text": [
      "\r",
      "  4%|▍         | 4/100 [00:27<10:58,  6.86s/it]"
     ]
    },
    {
     "name": "stdout",
     "output_type": "stream",
     "text": [
      "Train Epoch: 4 [0/60000 (0%)]\tLoss: 19274.128906\n",
      "Train Epoch: 4 [12800/60000 (21%)]\tLoss: 20510.931641\n",
      "Train Epoch: 4 [25600/60000 (43%)]\tLoss: 19485.150391\n",
      "Train Epoch: 4 [38400/60000 (64%)]\tLoss: 19045.082031\n",
      "Train Epoch: 4 [51200/60000 (85%)]\tLoss: 17194.601562\n"
     ]
    },
    {
     "name": "stderr",
     "output_type": "stream",
     "text": [
      "\r",
      "  5%|▌         | 5/100 [00:34<10:47,  6.81s/it]"
     ]
    },
    {
     "name": "stdout",
     "output_type": "stream",
     "text": [
      "Train Epoch: 5 [0/60000 (0%)]\tLoss: 20382.939453\n",
      "Train Epoch: 5 [12800/60000 (21%)]\tLoss: 17563.107422\n",
      "Train Epoch: 5 [25600/60000 (43%)]\tLoss: 18001.785156\n",
      "Train Epoch: 5 [38400/60000 (64%)]\tLoss: 17339.824219\n",
      "Train Epoch: 5 [51200/60000 (85%)]\tLoss: 17808.136719\n"
     ]
    },
    {
     "name": "stderr",
     "output_type": "stream",
     "text": [
      "\r",
      "  6%|▌         | 6/100 [00:41<10:42,  6.83s/it]"
     ]
    },
    {
     "name": "stdout",
     "output_type": "stream",
     "text": [
      "Train Epoch: 6 [0/60000 (0%)]\tLoss: 17899.396484\n",
      "Train Epoch: 6 [12800/60000 (21%)]\tLoss: 16729.035156\n",
      "Train Epoch: 6 [25600/60000 (43%)]\tLoss: 17536.492188\n",
      "Train Epoch: 6 [38400/60000 (64%)]\tLoss: 15969.230469\n",
      "Train Epoch: 6 [51200/60000 (85%)]\tLoss: 16488.437500\n"
     ]
    },
    {
     "name": "stderr",
     "output_type": "stream",
     "text": [
      "\r",
      "  7%|▋         | 7/100 [00:47<10:36,  6.84s/it]"
     ]
    },
    {
     "name": "stdout",
     "output_type": "stream",
     "text": [
      "Train Epoch: 7 [0/60000 (0%)]\tLoss: 16707.035156\n",
      "Train Epoch: 7 [12800/60000 (21%)]\tLoss: 17043.570312\n",
      "Train Epoch: 7 [25600/60000 (43%)]\tLoss: 16143.942383\n",
      "Train Epoch: 7 [38400/60000 (64%)]\tLoss: 16289.344727\n",
      "Train Epoch: 7 [51200/60000 (85%)]\tLoss: 17010.134766\n"
     ]
    },
    {
     "name": "stderr",
     "output_type": "stream",
     "text": [
      "\r",
      "  8%|▊         | 8/100 [00:54<10:32,  6.87s/it]"
     ]
    },
    {
     "name": "stdout",
     "output_type": "stream",
     "text": [
      "Train Epoch: 8 [0/60000 (0%)]\tLoss: 16737.683594\n",
      "Train Epoch: 8 [12800/60000 (21%)]\tLoss: 16643.851562\n",
      "Train Epoch: 8 [25600/60000 (43%)]\tLoss: 17461.050781\n",
      "Train Epoch: 8 [38400/60000 (64%)]\tLoss: 16038.689453\n",
      "Train Epoch: 8 [51200/60000 (85%)]\tLoss: 16069.710938\n"
     ]
    },
    {
     "name": "stderr",
     "output_type": "stream",
     "text": [
      "\r",
      "  9%|▉         | 9/100 [01:01<10:26,  6.89s/it]"
     ]
    },
    {
     "name": "stdout",
     "output_type": "stream",
     "text": [
      "Train Epoch: 9 [0/60000 (0%)]\tLoss: 16621.638672\n",
      "Train Epoch: 9 [12800/60000 (21%)]\tLoss: 16074.758789\n",
      "Train Epoch: 9 [25600/60000 (43%)]\tLoss: 16475.019531\n",
      "Train Epoch: 9 [38400/60000 (64%)]\tLoss: 17480.240234\n",
      "Train Epoch: 9 [51200/60000 (85%)]\tLoss: 16910.031250\n"
     ]
    },
    {
     "name": "stderr",
     "output_type": "stream",
     "text": [
      "\r",
      " 10%|█         | 10/100 [01:08<10:20,  6.90s/it]"
     ]
    },
    {
     "name": "stdout",
     "output_type": "stream",
     "text": [
      "Train Epoch: 10 [0/60000 (0%)]\tLoss: 17185.662109\n",
      "Train Epoch: 10 [12800/60000 (21%)]\tLoss: 16636.300781\n",
      "Train Epoch: 10 [25600/60000 (43%)]\tLoss: 16461.980469\n",
      "Train Epoch: 10 [38400/60000 (64%)]\tLoss: 16595.500000\n",
      "Train Epoch: 10 [51200/60000 (85%)]\tLoss: 16820.349609\n"
     ]
    },
    {
     "name": "stderr",
     "output_type": "stream",
     "text": [
      "\r",
      " 11%|█         | 11/100 [01:15<10:14,  6.90s/it]"
     ]
    },
    {
     "name": "stdout",
     "output_type": "stream",
     "text": [
      "Train Epoch: 11 [0/60000 (0%)]\tLoss: 15769.461914\n",
      "Train Epoch: 11 [12800/60000 (21%)]\tLoss: 16298.336914\n",
      "Train Epoch: 11 [25600/60000 (43%)]\tLoss: 16514.953125\n",
      "Train Epoch: 11 [38400/60000 (64%)]\tLoss: 15850.718750\n",
      "Train Epoch: 11 [51200/60000 (85%)]\tLoss: 16328.410156\n"
     ]
    },
    {
     "name": "stderr",
     "output_type": "stream",
     "text": [
      "\r",
      " 12%|█▏        | 12/100 [01:22<10:06,  6.89s/it]"
     ]
    },
    {
     "name": "stdout",
     "output_type": "stream",
     "text": [
      "Train Epoch: 12 [0/60000 (0%)]\tLoss: 15817.557617\n",
      "Train Epoch: 12 [12800/60000 (21%)]\tLoss: 16195.849609\n",
      "Train Epoch: 12 [25600/60000 (43%)]\tLoss: 16803.878906\n",
      "Train Epoch: 12 [38400/60000 (64%)]\tLoss: 16861.472656\n",
      "Train Epoch: 12 [51200/60000 (85%)]\tLoss: 16212.093750\n"
     ]
    },
    {
     "name": "stderr",
     "output_type": "stream",
     "text": [
      "\r",
      " 13%|█▎        | 13/100 [01:29<09:57,  6.87s/it]"
     ]
    },
    {
     "name": "stdout",
     "output_type": "stream",
     "text": [
      "Train Epoch: 13 [0/60000 (0%)]\tLoss: 16290.955078\n",
      "Train Epoch: 13 [12800/60000 (21%)]\tLoss: 15346.379883\n",
      "Train Epoch: 13 [25600/60000 (43%)]\tLoss: 16794.046875\n",
      "Train Epoch: 13 [38400/60000 (64%)]\tLoss: 15539.044922\n",
      "Train Epoch: 13 [51200/60000 (85%)]\tLoss: 15437.353516\n"
     ]
    },
    {
     "name": "stderr",
     "output_type": "stream",
     "text": [
      "\r",
      " 14%|█▍        | 14/100 [01:36<09:50,  6.87s/it]"
     ]
    },
    {
     "name": "stdout",
     "output_type": "stream",
     "text": [
      "Train Epoch: 14 [0/60000 (0%)]\tLoss: 16346.996094\n",
      "Train Epoch: 14 [12800/60000 (21%)]\tLoss: 16390.035156\n",
      "Train Epoch: 14 [25600/60000 (43%)]\tLoss: 15609.429688\n",
      "Train Epoch: 14 [38400/60000 (64%)]\tLoss: 15696.193359\n",
      "Train Epoch: 14 [51200/60000 (85%)]\tLoss: 15333.469727\n"
     ]
    },
    {
     "name": "stderr",
     "output_type": "stream",
     "text": [
      "\r",
      " 15%|█▌        | 15/100 [01:43<09:46,  6.89s/it]"
     ]
    },
    {
     "name": "stdout",
     "output_type": "stream",
     "text": [
      "Train Epoch: 15 [0/60000 (0%)]\tLoss: 16257.676758\n",
      "Train Epoch: 15 [12800/60000 (21%)]\tLoss: 16137.456055\n",
      "Train Epoch: 15 [25600/60000 (43%)]\tLoss: 15862.574219\n",
      "Train Epoch: 15 [38400/60000 (64%)]\tLoss: 15923.069336\n",
      "Train Epoch: 15 [51200/60000 (85%)]\tLoss: 15858.326172\n"
     ]
    },
    {
     "name": "stderr",
     "output_type": "stream",
     "text": [
      "\r",
      " 16%|█▌        | 16/100 [01:50<09:39,  6.90s/it]"
     ]
    },
    {
     "name": "stdout",
     "output_type": "stream",
     "text": [
      "Train Epoch: 16 [0/60000 (0%)]\tLoss: 15134.656250\n",
      "Train Epoch: 16 [12800/60000 (21%)]\tLoss: 15188.158203\n",
      "Train Epoch: 16 [25600/60000 (43%)]\tLoss: 15510.322266\n",
      "Train Epoch: 16 [38400/60000 (64%)]\tLoss: 14445.368164\n",
      "Train Epoch: 16 [51200/60000 (85%)]\tLoss: 16070.646484\n"
     ]
    },
    {
     "name": "stderr",
     "output_type": "stream",
     "text": [
      "\r",
      " 17%|█▋        | 17/100 [01:57<09:33,  6.91s/it]"
     ]
    },
    {
     "name": "stdout",
     "output_type": "stream",
     "text": [
      "Train Epoch: 17 [0/60000 (0%)]\tLoss: 14984.748047\n",
      "Train Epoch: 17 [12800/60000 (21%)]\tLoss: 15128.180664\n",
      "Train Epoch: 17 [25600/60000 (43%)]\tLoss: 16982.169922\n",
      "Train Epoch: 17 [38400/60000 (64%)]\tLoss: 15650.901367\n",
      "Train Epoch: 17 [51200/60000 (85%)]\tLoss: 15062.507812\n"
     ]
    },
    {
     "name": "stderr",
     "output_type": "stream",
     "text": [
      "\r",
      " 18%|█▊        | 18/100 [02:04<09:25,  6.90s/it]"
     ]
    },
    {
     "name": "stdout",
     "output_type": "stream",
     "text": [
      "Train Epoch: 18 [0/60000 (0%)]\tLoss: 15330.587891\n",
      "Train Epoch: 18 [12800/60000 (21%)]\tLoss: 15659.704102\n",
      "Train Epoch: 18 [25600/60000 (43%)]\tLoss: 15701.193359\n",
      "Train Epoch: 18 [38400/60000 (64%)]\tLoss: 15443.455078\n",
      "Train Epoch: 18 [51200/60000 (85%)]\tLoss: 15504.418945\n"
     ]
    },
    {
     "name": "stderr",
     "output_type": "stream",
     "text": [
      "\r",
      " 19%|█▉        | 19/100 [02:10<09:17,  6.89s/it]"
     ]
    },
    {
     "name": "stdout",
     "output_type": "stream",
     "text": [
      "Train Epoch: 19 [0/60000 (0%)]\tLoss: 15655.376953\n",
      "Train Epoch: 19 [12800/60000 (21%)]\tLoss: 14130.699219\n",
      "Train Epoch: 19 [25600/60000 (43%)]\tLoss: 16508.292969\n",
      "Train Epoch: 19 [38400/60000 (64%)]\tLoss: 15145.490234\n",
      "Train Epoch: 19 [51200/60000 (85%)]\tLoss: 15015.862305\n"
     ]
    },
    {
     "name": "stderr",
     "output_type": "stream",
     "text": [
      "\r",
      " 20%|██        | 20/100 [02:17<09:09,  6.87s/it]"
     ]
    },
    {
     "name": "stdout",
     "output_type": "stream",
     "text": [
      "Train Epoch: 20 [0/60000 (0%)]\tLoss: 14685.887695\n",
      "Train Epoch: 20 [12800/60000 (21%)]\tLoss: 14485.342773\n",
      "Train Epoch: 20 [25600/60000 (43%)]\tLoss: 15794.404297\n",
      "Train Epoch: 20 [38400/60000 (64%)]\tLoss: 14364.022461\n",
      "Train Epoch: 20 [51200/60000 (85%)]\tLoss: 14760.242188\n"
     ]
    },
    {
     "name": "stderr",
     "output_type": "stream",
     "text": [
      "\r",
      " 21%|██        | 21/100 [02:23<09:00,  6.85s/it]"
     ]
    },
    {
     "name": "stdout",
     "output_type": "stream",
     "text": [
      "Train Epoch: 21 [0/60000 (0%)]\tLoss: 16001.430664\n",
      "Train Epoch: 21 [12800/60000 (21%)]\tLoss: 15288.425781\n",
      "Train Epoch: 21 [25600/60000 (43%)]\tLoss: 14308.797852\n",
      "Train Epoch: 21 [38400/60000 (64%)]\tLoss: 15189.230469\n",
      "Train Epoch: 21 [51200/60000 (85%)]\tLoss: 14736.291016\n"
     ]
    },
    {
     "name": "stderr",
     "output_type": "stream",
     "text": [
      "\r",
      " 22%|██▏       | 22/100 [02:30<08:52,  6.83s/it]"
     ]
    },
    {
     "name": "stdout",
     "output_type": "stream",
     "text": [
      "Train Epoch: 22 [0/60000 (0%)]\tLoss: 15646.350586\n",
      "Train Epoch: 22 [12800/60000 (21%)]\tLoss: 14331.828125\n",
      "Train Epoch: 22 [25600/60000 (43%)]\tLoss: 14941.367188\n",
      "Train Epoch: 22 [38400/60000 (64%)]\tLoss: 14646.053711\n",
      "Train Epoch: 22 [51200/60000 (85%)]\tLoss: 14254.117188\n"
     ]
    },
    {
     "name": "stderr",
     "output_type": "stream",
     "text": [
      "\r",
      " 23%|██▎       | 23/100 [02:37<08:45,  6.83s/it]"
     ]
    },
    {
     "name": "stdout",
     "output_type": "stream",
     "text": [
      "Train Epoch: 23 [0/60000 (0%)]\tLoss: 14469.333984\n",
      "Train Epoch: 23 [12800/60000 (21%)]\tLoss: 15081.027344\n",
      "Train Epoch: 23 [25600/60000 (43%)]\tLoss: 15960.898438\n",
      "Train Epoch: 23 [38400/60000 (64%)]\tLoss: 14111.111328\n",
      "Train Epoch: 23 [51200/60000 (85%)]\tLoss: 14105.764648\n"
     ]
    },
    {
     "name": "stderr",
     "output_type": "stream",
     "text": [
      "\r",
      " 24%|██▍       | 24/100 [02:43<08:38,  6.82s/it]"
     ]
    },
    {
     "name": "stdout",
     "output_type": "stream",
     "text": [
      "Train Epoch: 24 [0/60000 (0%)]\tLoss: 14353.929688\n",
      "Train Epoch: 24 [12800/60000 (21%)]\tLoss: 14395.704102\n",
      "Train Epoch: 24 [25600/60000 (43%)]\tLoss: 15229.396484\n",
      "Train Epoch: 24 [38400/60000 (64%)]\tLoss: 14588.466797\n",
      "Train Epoch: 24 [51200/60000 (85%)]\tLoss: 14455.652344\n"
     ]
    },
    {
     "name": "stderr",
     "output_type": "stream",
     "text": [
      "\r",
      " 25%|██▌       | 25/100 [02:50<08:31,  6.82s/it]"
     ]
    },
    {
     "name": "stdout",
     "output_type": "stream",
     "text": [
      "Train Epoch: 25 [0/60000 (0%)]\tLoss: 14426.007812\n",
      "Train Epoch: 25 [12800/60000 (21%)]\tLoss: 15065.474609\n",
      "Train Epoch: 25 [25600/60000 (43%)]\tLoss: 14686.050781\n",
      "Train Epoch: 25 [38400/60000 (64%)]\tLoss: 13934.541992\n",
      "Train Epoch: 25 [51200/60000 (85%)]\tLoss: 14320.027344\n"
     ]
    },
    {
     "name": "stderr",
     "output_type": "stream",
     "text": [
      "\r",
      " 26%|██▌       | 26/100 [02:57<08:24,  6.81s/it]"
     ]
    },
    {
     "name": "stdout",
     "output_type": "stream",
     "text": [
      "Train Epoch: 26 [0/60000 (0%)]\tLoss: 14273.757812\n",
      "Train Epoch: 26 [12800/60000 (21%)]\tLoss: 15707.819336\n",
      "Train Epoch: 26 [25600/60000 (43%)]\tLoss: 14669.966797\n",
      "Train Epoch: 26 [38400/60000 (64%)]\tLoss: 13633.673828\n",
      "Train Epoch: 26 [51200/60000 (85%)]\tLoss: 14598.974609\n"
     ]
    },
    {
     "name": "stderr",
     "output_type": "stream",
     "text": [
      "\r",
      " 27%|██▋       | 27/100 [03:03<08:16,  6.80s/it]"
     ]
    },
    {
     "name": "stdout",
     "output_type": "stream",
     "text": [
      "Train Epoch: 27 [0/60000 (0%)]\tLoss: 13765.862305\n",
      "Train Epoch: 27 [12800/60000 (21%)]\tLoss: 15288.518555\n",
      "Train Epoch: 27 [25600/60000 (43%)]\tLoss: 14069.995117\n",
      "Train Epoch: 27 [38400/60000 (64%)]\tLoss: 14932.009766\n",
      "Train Epoch: 27 [51200/60000 (85%)]\tLoss: 14034.585938\n"
     ]
    },
    {
     "name": "stderr",
     "output_type": "stream",
     "text": [
      "\r",
      " 28%|██▊       | 28/100 [03:10<08:09,  6.79s/it]"
     ]
    },
    {
     "name": "stdout",
     "output_type": "stream",
     "text": [
      "Train Epoch: 28 [0/60000 (0%)]\tLoss: 14532.796875\n",
      "Train Epoch: 28 [12800/60000 (21%)]\tLoss: 14706.564453\n",
      "Train Epoch: 28 [25600/60000 (43%)]\tLoss: 14215.890625\n",
      "Train Epoch: 28 [38400/60000 (64%)]\tLoss: 14088.712891\n",
      "Train Epoch: 28 [51200/60000 (85%)]\tLoss: 14235.462891\n"
     ]
    },
    {
     "name": "stderr",
     "output_type": "stream",
     "text": [
      "\r",
      " 29%|██▉       | 29/100 [03:16<08:01,  6.78s/it]"
     ]
    },
    {
     "name": "stdout",
     "output_type": "stream",
     "text": [
      "Train Epoch: 29 [0/60000 (0%)]\tLoss: 15243.850586\n",
      "Train Epoch: 29 [12800/60000 (21%)]\tLoss: 14340.498047\n",
      "Train Epoch: 29 [25600/60000 (43%)]\tLoss: 14237.142578\n",
      "Train Epoch: 29 [38400/60000 (64%)]\tLoss: 14275.525391\n",
      "Train Epoch: 29 [51200/60000 (85%)]\tLoss: 13980.620117\n"
     ]
    },
    {
     "name": "stderr",
     "output_type": "stream",
     "text": [
      "\r",
      " 30%|███       | 30/100 [03:22<07:53,  6.77s/it]"
     ]
    },
    {
     "name": "stdout",
     "output_type": "stream",
     "text": [
      "Train Epoch: 30 [0/60000 (0%)]\tLoss: 13566.875000\n",
      "Train Epoch: 30 [12800/60000 (21%)]\tLoss: 14703.513672\n",
      "Train Epoch: 30 [25600/60000 (43%)]\tLoss: 14365.708984\n",
      "Train Epoch: 30 [38400/60000 (64%)]\tLoss: 14285.529297\n",
      "Train Epoch: 30 [51200/60000 (85%)]\tLoss: 14986.062500\n"
     ]
    },
    {
     "name": "stderr",
     "output_type": "stream",
     "text": [
      "\r",
      " 31%|███       | 31/100 [03:29<07:45,  6.75s/it]"
     ]
    },
    {
     "name": "stdout",
     "output_type": "stream",
     "text": [
      "Train Epoch: 31 [0/60000 (0%)]\tLoss: 13691.530273\n",
      "Train Epoch: 31 [12800/60000 (21%)]\tLoss: 14322.435547\n",
      "Train Epoch: 31 [25600/60000 (43%)]\tLoss: 14738.952148\n",
      "Train Epoch: 31 [38400/60000 (64%)]\tLoss: 14662.714844\n",
      "Train Epoch: 31 [51200/60000 (85%)]\tLoss: 14414.037109\n"
     ]
    },
    {
     "name": "stderr",
     "output_type": "stream",
     "text": [
      "\r",
      " 32%|███▏      | 32/100 [03:35<07:38,  6.74s/it]"
     ]
    },
    {
     "name": "stdout",
     "output_type": "stream",
     "text": [
      "Train Epoch: 32 [0/60000 (0%)]\tLoss: 13821.121094\n",
      "Train Epoch: 32 [12800/60000 (21%)]\tLoss: 13964.449219\n",
      "Train Epoch: 32 [25600/60000 (43%)]\tLoss: 13494.602539\n",
      "Train Epoch: 32 [38400/60000 (64%)]\tLoss: 13840.906250\n",
      "Train Epoch: 32 [51200/60000 (85%)]\tLoss: 15266.060547\n"
     ]
    },
    {
     "name": "stderr",
     "output_type": "stream",
     "text": [
      "\r",
      " 33%|███▎      | 33/100 [03:42<07:31,  6.74s/it]"
     ]
    },
    {
     "name": "stdout",
     "output_type": "stream",
     "text": [
      "Train Epoch: 33 [0/60000 (0%)]\tLoss: 13410.017578\n",
      "Train Epoch: 33 [12800/60000 (21%)]\tLoss: 13309.379883\n",
      "Train Epoch: 33 [25600/60000 (43%)]\tLoss: 13301.738281\n",
      "Train Epoch: 33 [38400/60000 (64%)]\tLoss: 13759.847656\n",
      "Train Epoch: 33 [51200/60000 (85%)]\tLoss: 14272.988281\n"
     ]
    },
    {
     "name": "stderr",
     "output_type": "stream",
     "text": [
      "\r",
      " 34%|███▍      | 34/100 [03:48<07:23,  6.72s/it]"
     ]
    },
    {
     "name": "stdout",
     "output_type": "stream",
     "text": [
      "Train Epoch: 34 [0/60000 (0%)]\tLoss: 14291.771484\n",
      "Train Epoch: 34 [12800/60000 (21%)]\tLoss: 14052.128906\n",
      "Train Epoch: 34 [25600/60000 (43%)]\tLoss: 13841.029297\n",
      "Train Epoch: 34 [38400/60000 (64%)]\tLoss: 14942.500000\n",
      "Train Epoch: 34 [51200/60000 (85%)]\tLoss: 13964.640625\n"
     ]
    },
    {
     "name": "stderr",
     "output_type": "stream",
     "text": [
      "\r",
      " 35%|███▌      | 35/100 [03:54<07:16,  6.71s/it]"
     ]
    },
    {
     "name": "stdout",
     "output_type": "stream",
     "text": [
      "Train Epoch: 35 [0/60000 (0%)]\tLoss: 13806.764648\n",
      "Train Epoch: 35 [12800/60000 (21%)]\tLoss: 15355.031250\n",
      "Train Epoch: 35 [25600/60000 (43%)]\tLoss: 13713.805664\n",
      "Train Epoch: 35 [38400/60000 (64%)]\tLoss: 14110.224609\n",
      "Train Epoch: 35 [51200/60000 (85%)]\tLoss: 14227.164062\n"
     ]
    },
    {
     "name": "stderr",
     "output_type": "stream",
     "text": [
      "\r",
      " 36%|███▌      | 36/100 [04:01<07:09,  6.71s/it]"
     ]
    },
    {
     "name": "stdout",
     "output_type": "stream",
     "text": [
      "Train Epoch: 36 [0/60000 (0%)]\tLoss: 13874.260742\n",
      "Train Epoch: 36 [12800/60000 (21%)]\tLoss: 13676.869141\n",
      "Train Epoch: 36 [25600/60000 (43%)]\tLoss: 14991.375000\n",
      "Train Epoch: 36 [38400/60000 (64%)]\tLoss: 13799.214844\n",
      "Train Epoch: 36 [51200/60000 (85%)]\tLoss: 14185.946289\n"
     ]
    },
    {
     "name": "stderr",
     "output_type": "stream",
     "text": [
      "\r",
      " 37%|███▋      | 37/100 [04:07<07:01,  6.69s/it]"
     ]
    },
    {
     "name": "stdout",
     "output_type": "stream",
     "text": [
      "Train Epoch: 37 [0/60000 (0%)]\tLoss: 14228.437500\n",
      "Train Epoch: 37 [12800/60000 (21%)]\tLoss: 14080.232422\n",
      "Train Epoch: 37 [25600/60000 (43%)]\tLoss: 13967.282227\n",
      "Train Epoch: 37 [38400/60000 (64%)]\tLoss: 14998.144531\n",
      "Train Epoch: 37 [51200/60000 (85%)]\tLoss: 14591.684570\n"
     ]
    },
    {
     "name": "stderr",
     "output_type": "stream",
     "text": [
      "\r",
      " 38%|███▊      | 38/100 [04:13<06:53,  6.68s/it]"
     ]
    },
    {
     "name": "stdout",
     "output_type": "stream",
     "text": [
      "Train Epoch: 38 [0/60000 (0%)]\tLoss: 13985.410156\n",
      "Train Epoch: 38 [12800/60000 (21%)]\tLoss: 14129.087891\n",
      "Train Epoch: 38 [25600/60000 (43%)]\tLoss: 14151.770508\n",
      "Train Epoch: 38 [38400/60000 (64%)]\tLoss: 13636.297852\n",
      "Train Epoch: 38 [51200/60000 (85%)]\tLoss: 13126.089844\n"
     ]
    },
    {
     "name": "stderr",
     "output_type": "stream",
     "text": [
      "\r",
      " 39%|███▉      | 39/100 [04:20<06:46,  6.67s/it]"
     ]
    },
    {
     "name": "stdout",
     "output_type": "stream",
     "text": [
      "Train Epoch: 39 [0/60000 (0%)]\tLoss: 13418.179688\n",
      "Train Epoch: 39 [12800/60000 (21%)]\tLoss: 13612.678711\n",
      "Train Epoch: 39 [25600/60000 (43%)]\tLoss: 13955.375000\n",
      "Train Epoch: 39 [38400/60000 (64%)]\tLoss: 14461.562500\n",
      "Train Epoch: 39 [51200/60000 (85%)]\tLoss: 12962.725586\n"
     ]
    },
    {
     "name": "stderr",
     "output_type": "stream",
     "text": [
      "\r",
      " 40%|████      | 40/100 [04:26<06:39,  6.66s/it]"
     ]
    },
    {
     "name": "stdout",
     "output_type": "stream",
     "text": [
      "Train Epoch: 40 [0/60000 (0%)]\tLoss: 14801.498047\n",
      "Train Epoch: 40 [12800/60000 (21%)]\tLoss: 14536.261719\n",
      "Train Epoch: 40 [25600/60000 (43%)]\tLoss: 14143.714844\n",
      "Train Epoch: 40 [38400/60000 (64%)]\tLoss: 13552.192383\n",
      "Train Epoch: 40 [51200/60000 (85%)]\tLoss: 13432.668945\n"
     ]
    },
    {
     "name": "stderr",
     "output_type": "stream",
     "text": [
      "\r",
      " 41%|████      | 41/100 [04:32<06:32,  6.65s/it]"
     ]
    },
    {
     "name": "stdout",
     "output_type": "stream",
     "text": [
      "Train Epoch: 41 [0/60000 (0%)]\tLoss: 14023.523438\n",
      "Train Epoch: 41 [12800/60000 (21%)]\tLoss: 13770.241211\n",
      "Train Epoch: 41 [25600/60000 (43%)]\tLoss: 14641.250000\n",
      "Train Epoch: 41 [38400/60000 (64%)]\tLoss: 13832.888672\n",
      "Train Epoch: 41 [51200/60000 (85%)]\tLoss: 13464.466797\n"
     ]
    },
    {
     "name": "stderr",
     "output_type": "stream",
     "text": [
      "\r",
      " 42%|████▏     | 42/100 [04:39<06:25,  6.65s/it]"
     ]
    },
    {
     "name": "stdout",
     "output_type": "stream",
     "text": [
      "Train Epoch: 42 [0/60000 (0%)]\tLoss: 14766.621094\n",
      "Train Epoch: 42 [12800/60000 (21%)]\tLoss: 14351.144531\n",
      "Train Epoch: 42 [25600/60000 (43%)]\tLoss: 14630.706055\n",
      "Train Epoch: 42 [38400/60000 (64%)]\tLoss: 13648.665039\n",
      "Train Epoch: 42 [51200/60000 (85%)]\tLoss: 14057.912109\n"
     ]
    },
    {
     "name": "stderr",
     "output_type": "stream",
     "text": [
      "\r",
      " 43%|████▎     | 43/100 [04:45<06:18,  6.64s/it]"
     ]
    },
    {
     "name": "stdout",
     "output_type": "stream",
     "text": [
      "Train Epoch: 43 [0/60000 (0%)]\tLoss: 13586.783203\n",
      "Train Epoch: 43 [12800/60000 (21%)]\tLoss: 13723.744141\n",
      "Train Epoch: 43 [25600/60000 (43%)]\tLoss: 14060.111328\n",
      "Train Epoch: 43 [38400/60000 (64%)]\tLoss: 13807.723633\n",
      "Train Epoch: 43 [51200/60000 (85%)]\tLoss: 13739.920898\n"
     ]
    },
    {
     "name": "stderr",
     "output_type": "stream",
     "text": [
      "\r",
      " 44%|████▍     | 44/100 [04:51<06:11,  6.63s/it]"
     ]
    },
    {
     "name": "stdout",
     "output_type": "stream",
     "text": [
      "Train Epoch: 44 [0/60000 (0%)]\tLoss: 14062.566406\n",
      "Train Epoch: 44 [12800/60000 (21%)]\tLoss: 12954.281250\n",
      "Train Epoch: 44 [25600/60000 (43%)]\tLoss: 13933.982422\n",
      "Train Epoch: 44 [38400/60000 (64%)]\tLoss: 13076.200195\n",
      "Train Epoch: 44 [51200/60000 (85%)]\tLoss: 14516.248047\n"
     ]
    },
    {
     "name": "stderr",
     "output_type": "stream",
     "text": [
      "\r",
      " 45%|████▌     | 45/100 [04:57<06:04,  6.62s/it]"
     ]
    },
    {
     "name": "stdout",
     "output_type": "stream",
     "text": [
      "Train Epoch: 45 [0/60000 (0%)]\tLoss: 14005.199219\n",
      "Train Epoch: 45 [12800/60000 (21%)]\tLoss: 14120.355469\n",
      "Train Epoch: 45 [25600/60000 (43%)]\tLoss: 13219.323242\n",
      "Train Epoch: 45 [38400/60000 (64%)]\tLoss: 13659.908203\n",
      "Train Epoch: 45 [51200/60000 (85%)]\tLoss: 14094.686523\n"
     ]
    },
    {
     "name": "stderr",
     "output_type": "stream",
     "text": [
      "\r",
      " 46%|████▌     | 46/100 [05:04<05:57,  6.61s/it]"
     ]
    },
    {
     "name": "stdout",
     "output_type": "stream",
     "text": [
      "Train Epoch: 46 [0/60000 (0%)]\tLoss: 12859.541992\n",
      "Train Epoch: 46 [12800/60000 (21%)]\tLoss: 13990.193359\n",
      "Train Epoch: 46 [25600/60000 (43%)]\tLoss: 14114.906250\n",
      "Train Epoch: 46 [38400/60000 (64%)]\tLoss: 13862.090820\n",
      "Train Epoch: 46 [51200/60000 (85%)]\tLoss: 13703.072266\n"
     ]
    },
    {
     "name": "stderr",
     "output_type": "stream",
     "text": [
      "\r",
      " 47%|████▋     | 47/100 [05:10<05:49,  6.60s/it]"
     ]
    },
    {
     "name": "stdout",
     "output_type": "stream",
     "text": [
      "Train Epoch: 47 [0/60000 (0%)]\tLoss: 14616.041016\n",
      "Train Epoch: 47 [12800/60000 (21%)]\tLoss: 14877.538086\n",
      "Train Epoch: 47 [25600/60000 (43%)]\tLoss: 13608.824219\n",
      "Train Epoch: 47 [38400/60000 (64%)]\tLoss: 13146.613281\n",
      "Train Epoch: 47 [51200/60000 (85%)]\tLoss: 13167.488281\n"
     ]
    },
    {
     "name": "stderr",
     "output_type": "stream",
     "text": [
      "\r",
      " 48%|████▊     | 48/100 [05:16<05:42,  6.59s/it]"
     ]
    },
    {
     "name": "stdout",
     "output_type": "stream",
     "text": [
      "Train Epoch: 48 [0/60000 (0%)]\tLoss: 12845.954102\n",
      "Train Epoch: 48 [12800/60000 (21%)]\tLoss: 13964.348633\n",
      "Train Epoch: 48 [25600/60000 (43%)]\tLoss: 13717.892578\n",
      "Train Epoch: 48 [38400/60000 (64%)]\tLoss: 15171.533203\n",
      "Train Epoch: 48 [51200/60000 (85%)]\tLoss: 13434.789062\n"
     ]
    },
    {
     "name": "stderr",
     "output_type": "stream",
     "text": [
      "\r",
      " 49%|████▉     | 49/100 [05:22<05:35,  6.59s/it]"
     ]
    },
    {
     "name": "stdout",
     "output_type": "stream",
     "text": [
      "Train Epoch: 49 [0/60000 (0%)]\tLoss: 14137.324219\n",
      "Train Epoch: 49 [12800/60000 (21%)]\tLoss: 14147.982422\n",
      "Train Epoch: 49 [25600/60000 (43%)]\tLoss: 13518.683594\n",
      "Train Epoch: 49 [38400/60000 (64%)]\tLoss: 13882.861328\n",
      "Train Epoch: 49 [51200/60000 (85%)]\tLoss: 13649.067383\n"
     ]
    },
    {
     "name": "stderr",
     "output_type": "stream",
     "text": [
      "\r",
      " 50%|█████     | 50/100 [05:29<05:29,  6.58s/it]"
     ]
    },
    {
     "name": "stdout",
     "output_type": "stream",
     "text": [
      "Train Epoch: 50 [0/60000 (0%)]\tLoss: 14090.945312\n",
      "Train Epoch: 50 [12800/60000 (21%)]\tLoss: 13844.468750\n",
      "Train Epoch: 50 [25600/60000 (43%)]\tLoss: 13264.671875\n",
      "Train Epoch: 50 [38400/60000 (64%)]\tLoss: 13235.003906\n",
      "Train Epoch: 50 [51200/60000 (85%)]\tLoss: 13769.712891\n"
     ]
    },
    {
     "name": "stderr",
     "output_type": "stream",
     "text": [
      "\r",
      " 51%|█████     | 51/100 [05:35<05:22,  6.58s/it]"
     ]
    },
    {
     "name": "stdout",
     "output_type": "stream",
     "text": [
      "Train Epoch: 51 [0/60000 (0%)]\tLoss: 15158.939453\n",
      "Train Epoch: 51 [12800/60000 (21%)]\tLoss: 14147.965820\n",
      "Train Epoch: 51 [25600/60000 (43%)]\tLoss: 14330.107422\n",
      "Train Epoch: 51 [38400/60000 (64%)]\tLoss: 13854.359375\n",
      "Train Epoch: 51 [51200/60000 (85%)]\tLoss: 14053.926758\n"
     ]
    },
    {
     "name": "stderr",
     "output_type": "stream",
     "text": [
      "\r",
      " 52%|█████▏    | 52/100 [05:41<05:15,  6.57s/it]"
     ]
    },
    {
     "name": "stdout",
     "output_type": "stream",
     "text": [
      "Train Epoch: 52 [0/60000 (0%)]\tLoss: 13796.632812\n",
      "Train Epoch: 52 [12800/60000 (21%)]\tLoss: 14154.999023\n",
      "Train Epoch: 52 [25600/60000 (43%)]\tLoss: 14295.671875\n",
      "Train Epoch: 52 [38400/60000 (64%)]\tLoss: 14044.606445\n",
      "Train Epoch: 52 [51200/60000 (85%)]\tLoss: 13610.543945\n"
     ]
    },
    {
     "name": "stderr",
     "output_type": "stream",
     "text": [
      "\r",
      " 53%|█████▎    | 53/100 [05:48<05:08,  6.57s/it]"
     ]
    },
    {
     "name": "stdout",
     "output_type": "stream",
     "text": [
      "Train Epoch: 53 [0/60000 (0%)]\tLoss: 14806.221680\n",
      "Train Epoch: 53 [12800/60000 (21%)]\tLoss: 14380.281250\n",
      "Train Epoch: 53 [25600/60000 (43%)]\tLoss: 15564.203125\n",
      "Train Epoch: 53 [38400/60000 (64%)]\tLoss: 14261.241211\n",
      "Train Epoch: 53 [51200/60000 (85%)]\tLoss: 12982.097656\n"
     ]
    },
    {
     "name": "stderr",
     "output_type": "stream",
     "text": [
      "\r",
      " 54%|█████▍    | 54/100 [05:54<05:01,  6.56s/it]"
     ]
    },
    {
     "name": "stdout",
     "output_type": "stream",
     "text": [
      "Train Epoch: 54 [0/60000 (0%)]\tLoss: 13512.236328\n",
      "Train Epoch: 54 [12800/60000 (21%)]\tLoss: 13503.568359\n",
      "Train Epoch: 54 [25600/60000 (43%)]\tLoss: 14551.843750\n",
      "Train Epoch: 54 [38400/60000 (64%)]\tLoss: 14991.985352\n",
      "Train Epoch: 54 [51200/60000 (85%)]\tLoss: 14018.154297\n"
     ]
    },
    {
     "name": "stderr",
     "output_type": "stream",
     "text": [
      "\r",
      " 55%|█████▌    | 55/100 [06:00<04:55,  6.56s/it]"
     ]
    },
    {
     "name": "stdout",
     "output_type": "stream",
     "text": [
      "Train Epoch: 55 [0/60000 (0%)]\tLoss: 13623.150391\n",
      "Train Epoch: 55 [12800/60000 (21%)]\tLoss: 12929.458008\n",
      "Train Epoch: 55 [25600/60000 (43%)]\tLoss: 14048.027344\n",
      "Train Epoch: 55 [38400/60000 (64%)]\tLoss: 13474.033203\n",
      "Train Epoch: 55 [51200/60000 (85%)]\tLoss: 13339.961914\n"
     ]
    },
    {
     "name": "stderr",
     "output_type": "stream",
     "text": [
      "\r",
      " 56%|█████▌    | 56/100 [06:06<04:48,  6.55s/it]"
     ]
    },
    {
     "name": "stdout",
     "output_type": "stream",
     "text": [
      "Train Epoch: 56 [0/60000 (0%)]\tLoss: 13888.140625\n",
      "Train Epoch: 56 [12800/60000 (21%)]\tLoss: 13259.964844\n",
      "Train Epoch: 56 [25600/60000 (43%)]\tLoss: 14363.123047\n",
      "Train Epoch: 56 [38400/60000 (64%)]\tLoss: 13853.302734\n",
      "Train Epoch: 56 [51200/60000 (85%)]\tLoss: 13788.276367\n"
     ]
    },
    {
     "name": "stderr",
     "output_type": "stream",
     "text": [
      "\r",
      " 57%|█████▋    | 57/100 [06:13<04:41,  6.55s/it]"
     ]
    },
    {
     "name": "stdout",
     "output_type": "stream",
     "text": [
      "Train Epoch: 57 [0/60000 (0%)]\tLoss: 13899.186523\n",
      "Train Epoch: 57 [12800/60000 (21%)]\tLoss: 13836.955078\n",
      "Train Epoch: 57 [25600/60000 (43%)]\tLoss: 13633.820312\n",
      "Train Epoch: 57 [38400/60000 (64%)]\tLoss: 13137.230469\n",
      "Train Epoch: 57 [51200/60000 (85%)]\tLoss: 13469.365234\n"
     ]
    },
    {
     "name": "stderr",
     "output_type": "stream",
     "text": [
      "\r",
      " 58%|█████▊    | 58/100 [06:19<04:34,  6.55s/it]"
     ]
    },
    {
     "name": "stdout",
     "output_type": "stream",
     "text": [
      "Train Epoch: 58 [0/60000 (0%)]\tLoss: 14336.719727\n",
      "Train Epoch: 58 [12800/60000 (21%)]\tLoss: 12590.382812\n",
      "Train Epoch: 58 [25600/60000 (43%)]\tLoss: 14734.720703\n",
      "Train Epoch: 58 [38400/60000 (64%)]\tLoss: 13183.843750\n",
      "Train Epoch: 58 [51200/60000 (85%)]\tLoss: 13491.404297\n"
     ]
    },
    {
     "name": "stderr",
     "output_type": "stream",
     "text": [
      "\r",
      " 59%|█████▉    | 59/100 [06:26<04:28,  6.54s/it]"
     ]
    },
    {
     "name": "stdout",
     "output_type": "stream",
     "text": [
      "Train Epoch: 59 [0/60000 (0%)]\tLoss: 13976.182617\n",
      "Train Epoch: 59 [12800/60000 (21%)]\tLoss: 13849.437500\n",
      "Train Epoch: 59 [25600/60000 (43%)]\tLoss: 12745.605469\n",
      "Train Epoch: 59 [38400/60000 (64%)]\tLoss: 13792.290039\n",
      "Train Epoch: 59 [51200/60000 (85%)]\tLoss: 13335.710938\n"
     ]
    },
    {
     "name": "stderr",
     "output_type": "stream",
     "text": [
      "\r",
      " 60%|██████    | 60/100 [06:32<04:21,  6.54s/it]"
     ]
    },
    {
     "name": "stdout",
     "output_type": "stream",
     "text": [
      "Train Epoch: 60 [0/60000 (0%)]\tLoss: 13367.627930\n",
      "Train Epoch: 60 [12800/60000 (21%)]\tLoss: 12513.222656\n",
      "Train Epoch: 60 [25600/60000 (43%)]\tLoss: 12579.810547\n",
      "Train Epoch: 60 [38400/60000 (64%)]\tLoss: 13209.112305\n",
      "Train Epoch: 60 [51200/60000 (85%)]\tLoss: 13272.659180\n"
     ]
    },
    {
     "name": "stderr",
     "output_type": "stream",
     "text": [
      "\r",
      " 61%|██████    | 61/100 [06:38<04:14,  6.54s/it]"
     ]
    },
    {
     "name": "stdout",
     "output_type": "stream",
     "text": [
      "Train Epoch: 61 [0/60000 (0%)]\tLoss: 13644.179688\n",
      "Train Epoch: 61 [12800/60000 (21%)]\tLoss: 14137.204102\n",
      "Train Epoch: 61 [25600/60000 (43%)]\tLoss: 12286.165039\n",
      "Train Epoch: 61 [38400/60000 (64%)]\tLoss: 13021.255859\n",
      "Train Epoch: 61 [51200/60000 (85%)]\tLoss: 13255.039062\n"
     ]
    },
    {
     "name": "stderr",
     "output_type": "stream",
     "text": [
      "\r",
      " 62%|██████▏   | 62/100 [06:45<04:08,  6.53s/it]"
     ]
    },
    {
     "name": "stdout",
     "output_type": "stream",
     "text": [
      "Train Epoch: 62 [0/60000 (0%)]\tLoss: 13813.204102\n",
      "Train Epoch: 62 [12800/60000 (21%)]\tLoss: 13450.193359\n",
      "Train Epoch: 62 [25600/60000 (43%)]\tLoss: 13602.324219\n",
      "Train Epoch: 62 [38400/60000 (64%)]\tLoss: 13739.822266\n",
      "Train Epoch: 62 [51200/60000 (85%)]\tLoss: 14145.211914\n"
     ]
    },
    {
     "name": "stderr",
     "output_type": "stream",
     "text": [
      "\r",
      " 63%|██████▎   | 63/100 [06:51<04:01,  6.53s/it]"
     ]
    },
    {
     "name": "stdout",
     "output_type": "stream",
     "text": [
      "Train Epoch: 63 [0/60000 (0%)]\tLoss: 14111.621094\n",
      "Train Epoch: 63 [12800/60000 (21%)]\tLoss: 13997.504883\n",
      "Train Epoch: 63 [25600/60000 (43%)]\tLoss: 14630.960938\n",
      "Train Epoch: 63 [38400/60000 (64%)]\tLoss: 13283.398438\n",
      "Train Epoch: 63 [51200/60000 (85%)]\tLoss: 13727.982422\n"
     ]
    },
    {
     "name": "stderr",
     "output_type": "stream",
     "text": [
      "\r",
      " 64%|██████▍   | 64/100 [06:57<03:54,  6.52s/it]"
     ]
    },
    {
     "name": "stdout",
     "output_type": "stream",
     "text": [
      "Train Epoch: 64 [0/60000 (0%)]\tLoss: 13716.648438\n",
      "Train Epoch: 64 [12800/60000 (21%)]\tLoss: 13205.067383\n",
      "Train Epoch: 64 [25600/60000 (43%)]\tLoss: 14560.052734\n",
      "Train Epoch: 64 [38400/60000 (64%)]\tLoss: 14110.635742\n",
      "Train Epoch: 64 [51200/60000 (85%)]\tLoss: 14095.321289\n"
     ]
    },
    {
     "name": "stderr",
     "output_type": "stream",
     "text": [
      "\r",
      " 65%|██████▌   | 65/100 [07:03<03:48,  6.52s/it]"
     ]
    },
    {
     "name": "stdout",
     "output_type": "stream",
     "text": [
      "Train Epoch: 65 [0/60000 (0%)]\tLoss: 13550.441406\n",
      "Train Epoch: 65 [12800/60000 (21%)]\tLoss: 13371.893555\n",
      "Train Epoch: 65 [25600/60000 (43%)]\tLoss: 13652.405273\n",
      "Train Epoch: 65 [38400/60000 (64%)]\tLoss: 13818.800781\n",
      "Train Epoch: 65 [51200/60000 (85%)]\tLoss: 13499.673828\n"
     ]
    },
    {
     "name": "stderr",
     "output_type": "stream",
     "text": [
      "\r",
      " 66%|██████▌   | 66/100 [07:10<03:41,  6.52s/it]"
     ]
    },
    {
     "name": "stdout",
     "output_type": "stream",
     "text": [
      "Train Epoch: 66 [0/60000 (0%)]\tLoss: 13803.250000\n",
      "Train Epoch: 66 [12800/60000 (21%)]\tLoss: 13761.014648\n",
      "Train Epoch: 66 [25600/60000 (43%)]\tLoss: 13369.462891\n",
      "Train Epoch: 66 [38400/60000 (64%)]\tLoss: 13067.236328\n",
      "Train Epoch: 66 [51200/60000 (85%)]\tLoss: 12632.035156\n"
     ]
    },
    {
     "name": "stderr",
     "output_type": "stream",
     "text": [
      "\r",
      " 67%|██████▋   | 67/100 [07:16<03:35,  6.52s/it]"
     ]
    },
    {
     "name": "stdout",
     "output_type": "stream",
     "text": [
      "Train Epoch: 67 [0/60000 (0%)]\tLoss: 12800.841797\n",
      "Train Epoch: 67 [12800/60000 (21%)]\tLoss: 14165.575195\n",
      "Train Epoch: 67 [25600/60000 (43%)]\tLoss: 13949.496094\n",
      "Train Epoch: 67 [38400/60000 (64%)]\tLoss: 13227.783203\n",
      "Train Epoch: 67 [51200/60000 (85%)]\tLoss: 13905.844727\n"
     ]
    },
    {
     "name": "stderr",
     "output_type": "stream",
     "text": [
      "\r",
      " 68%|██████▊   | 68/100 [07:23<03:28,  6.52s/it]"
     ]
    },
    {
     "name": "stdout",
     "output_type": "stream",
     "text": [
      "Train Epoch: 68 [0/60000 (0%)]\tLoss: 13844.533203\n",
      "Train Epoch: 68 [12800/60000 (21%)]\tLoss: 14333.875000\n",
      "Train Epoch: 68 [25600/60000 (43%)]\tLoss: 13647.349609\n",
      "Train Epoch: 68 [38400/60000 (64%)]\tLoss: 12678.966797\n",
      "Train Epoch: 68 [51200/60000 (85%)]\tLoss: 12962.878906\n"
     ]
    },
    {
     "name": "stderr",
     "output_type": "stream",
     "text": [
      "\r",
      " 69%|██████▉   | 69/100 [07:30<03:22,  6.53s/it]"
     ]
    },
    {
     "name": "stdout",
     "output_type": "stream",
     "text": [
      "Train Epoch: 69 [0/60000 (0%)]\tLoss: 14347.018555\n",
      "Train Epoch: 69 [12800/60000 (21%)]\tLoss: 13528.585938\n",
      "Train Epoch: 69 [25600/60000 (43%)]\tLoss: 13434.785156\n",
      "Train Epoch: 69 [38400/60000 (64%)]\tLoss: 13071.986328\n",
      "Train Epoch: 69 [51200/60000 (85%)]\tLoss: 12878.357422\n"
     ]
    },
    {
     "name": "stderr",
     "output_type": "stream",
     "text": [
      "\r",
      " 70%|███████   | 70/100 [07:37<03:15,  6.53s/it]"
     ]
    },
    {
     "name": "stdout",
     "output_type": "stream",
     "text": [
      "Train Epoch: 70 [0/60000 (0%)]\tLoss: 14283.005859\n",
      "Train Epoch: 70 [12800/60000 (21%)]\tLoss: 12911.015625\n",
      "Train Epoch: 70 [25600/60000 (43%)]\tLoss: 14185.224609\n",
      "Train Epoch: 70 [38400/60000 (64%)]\tLoss: 13874.462891\n",
      "Train Epoch: 70 [51200/60000 (85%)]\tLoss: 13440.782227\n"
     ]
    },
    {
     "name": "stderr",
     "output_type": "stream",
     "text": [
      "\r",
      " 71%|███████   | 71/100 [07:43<03:09,  6.53s/it]"
     ]
    },
    {
     "name": "stdout",
     "output_type": "stream",
     "text": [
      "Train Epoch: 71 [0/60000 (0%)]\tLoss: 13442.287109\n",
      "Train Epoch: 71 [12800/60000 (21%)]\tLoss: 13824.009766\n",
      "Train Epoch: 71 [25600/60000 (43%)]\tLoss: 15249.677734\n",
      "Train Epoch: 71 [38400/60000 (64%)]\tLoss: 13163.820312\n",
      "Train Epoch: 71 [51200/60000 (85%)]\tLoss: 14014.767578\n"
     ]
    },
    {
     "name": "stderr",
     "output_type": "stream",
     "text": [
      "\r",
      " 72%|███████▏  | 72/100 [07:50<03:02,  6.53s/it]"
     ]
    },
    {
     "name": "stdout",
     "output_type": "stream",
     "text": [
      "Train Epoch: 72 [0/60000 (0%)]\tLoss: 13058.195312\n",
      "Train Epoch: 72 [12800/60000 (21%)]\tLoss: 14266.027344\n",
      "Train Epoch: 72 [25600/60000 (43%)]\tLoss: 13264.752930\n",
      "Train Epoch: 72 [38400/60000 (64%)]\tLoss: 13564.187500\n",
      "Train Epoch: 72 [51200/60000 (85%)]\tLoss: 13616.546875\n"
     ]
    },
    {
     "name": "stderr",
     "output_type": "stream",
     "text": [
      "\r",
      " 73%|███████▎  | 73/100 [07:56<02:56,  6.53s/it]"
     ]
    },
    {
     "name": "stdout",
     "output_type": "stream",
     "text": [
      "Train Epoch: 73 [0/60000 (0%)]\tLoss: 13583.759766\n",
      "Train Epoch: 73 [12800/60000 (21%)]\tLoss: 14408.518555\n",
      "Train Epoch: 73 [25600/60000 (43%)]\tLoss: 13012.885742\n",
      "Train Epoch: 73 [38400/60000 (64%)]\tLoss: 13510.414062\n",
      "Train Epoch: 73 [51200/60000 (85%)]\tLoss: 12916.490234\n"
     ]
    },
    {
     "name": "stderr",
     "output_type": "stream",
     "text": [
      "\r",
      " 74%|███████▍  | 74/100 [08:03<02:49,  6.54s/it]"
     ]
    },
    {
     "name": "stdout",
     "output_type": "stream",
     "text": [
      "Train Epoch: 74 [0/60000 (0%)]\tLoss: 13006.359375\n",
      "Train Epoch: 74 [12800/60000 (21%)]\tLoss: 13044.314453\n",
      "Train Epoch: 74 [25600/60000 (43%)]\tLoss: 13089.461914\n",
      "Train Epoch: 74 [38400/60000 (64%)]\tLoss: 13662.435547\n",
      "Train Epoch: 74 [51200/60000 (85%)]\tLoss: 13613.291992\n"
     ]
    },
    {
     "name": "stderr",
     "output_type": "stream",
     "text": [
      "\r",
      " 75%|███████▌  | 75/100 [08:10<02:43,  6.54s/it]"
     ]
    },
    {
     "name": "stdout",
     "output_type": "stream",
     "text": [
      "Train Epoch: 75 [0/60000 (0%)]\tLoss: 13170.027344\n",
      "Train Epoch: 75 [12800/60000 (21%)]\tLoss: 12984.154297\n",
      "Train Epoch: 75 [25600/60000 (43%)]\tLoss: 13586.958008\n",
      "Train Epoch: 75 [38400/60000 (64%)]\tLoss: 12517.326172\n",
      "Train Epoch: 75 [51200/60000 (85%)]\tLoss: 13415.017578\n"
     ]
    },
    {
     "name": "stderr",
     "output_type": "stream",
     "text": [
      "\r",
      " 76%|███████▌  | 76/100 [08:16<02:36,  6.54s/it]"
     ]
    },
    {
     "name": "stdout",
     "output_type": "stream",
     "text": [
      "Train Epoch: 76 [0/60000 (0%)]\tLoss: 13513.960938\n",
      "Train Epoch: 76 [12800/60000 (21%)]\tLoss: 12527.957031\n",
      "Train Epoch: 76 [25600/60000 (43%)]\tLoss: 13055.963867\n",
      "Train Epoch: 76 [38400/60000 (64%)]\tLoss: 14037.416016\n",
      "Train Epoch: 76 [51200/60000 (85%)]\tLoss: 12760.086914\n"
     ]
    },
    {
     "name": "stderr",
     "output_type": "stream",
     "text": [
      "\r",
      " 77%|███████▋  | 77/100 [08:23<02:30,  6.53s/it]"
     ]
    },
    {
     "name": "stdout",
     "output_type": "stream",
     "text": [
      "Train Epoch: 77 [0/60000 (0%)]\tLoss: 13373.744141\n",
      "Train Epoch: 77 [12800/60000 (21%)]\tLoss: 13410.335938\n",
      "Train Epoch: 77 [25600/60000 (43%)]\tLoss: 13573.605469\n",
      "Train Epoch: 77 [38400/60000 (64%)]\tLoss: 13314.904297\n",
      "Train Epoch: 77 [51200/60000 (85%)]\tLoss: 13586.424805\n"
     ]
    },
    {
     "name": "stderr",
     "output_type": "stream",
     "text": [
      "\r",
      " 78%|███████▊  | 78/100 [08:29<02:23,  6.53s/it]"
     ]
    },
    {
     "name": "stdout",
     "output_type": "stream",
     "text": [
      "Train Epoch: 78 [0/60000 (0%)]\tLoss: 13182.867188\n",
      "Train Epoch: 78 [12800/60000 (21%)]\tLoss: 14658.931641\n",
      "Train Epoch: 78 [25600/60000 (43%)]\tLoss: 13041.208008\n",
      "Train Epoch: 78 [38400/60000 (64%)]\tLoss: 13136.436523\n",
      "Train Epoch: 78 [51200/60000 (85%)]\tLoss: 12912.701172\n"
     ]
    },
    {
     "name": "stderr",
     "output_type": "stream",
     "text": [
      "\r",
      " 79%|███████▉  | 79/100 [08:36<02:17,  6.53s/it]"
     ]
    },
    {
     "name": "stdout",
     "output_type": "stream",
     "text": [
      "Train Epoch: 79 [0/60000 (0%)]\tLoss: 14421.881836\n",
      "Train Epoch: 79 [12800/60000 (21%)]\tLoss: 14462.504883\n",
      "Train Epoch: 79 [25600/60000 (43%)]\tLoss: 13831.166992\n",
      "Train Epoch: 79 [38400/60000 (64%)]\tLoss: 13226.130859\n",
      "Train Epoch: 79 [51200/60000 (85%)]\tLoss: 13688.201172\n"
     ]
    },
    {
     "name": "stderr",
     "output_type": "stream",
     "text": [
      "\r",
      " 80%|████████  | 80/100 [08:42<02:10,  6.53s/it]"
     ]
    },
    {
     "name": "stdout",
     "output_type": "stream",
     "text": [
      "Train Epoch: 80 [0/60000 (0%)]\tLoss: 12694.091797\n",
      "Train Epoch: 80 [12800/60000 (21%)]\tLoss: 13039.001953\n",
      "Train Epoch: 80 [25600/60000 (43%)]\tLoss: 13792.304688\n",
      "Train Epoch: 80 [38400/60000 (64%)]\tLoss: 13688.189453\n",
      "Train Epoch: 80 [51200/60000 (85%)]\tLoss: 12743.337891\n"
     ]
    },
    {
     "name": "stderr",
     "output_type": "stream",
     "text": [
      "\r",
      " 81%|████████  | 81/100 [08:48<02:04,  6.53s/it]"
     ]
    },
    {
     "name": "stdout",
     "output_type": "stream",
     "text": [
      "Train Epoch: 81 [0/60000 (0%)]\tLoss: 14056.613281\n",
      "Train Epoch: 81 [12800/60000 (21%)]\tLoss: 13788.072266\n",
      "Train Epoch: 81 [25600/60000 (43%)]\tLoss: 13160.642578\n",
      "Train Epoch: 81 [38400/60000 (64%)]\tLoss: 13464.781250\n",
      "Train Epoch: 81 [51200/60000 (85%)]\tLoss: 13042.946289\n"
     ]
    },
    {
     "name": "stderr",
     "output_type": "stream",
     "text": [
      "\r",
      " 82%|████████▏ | 82/100 [08:55<01:57,  6.53s/it]"
     ]
    },
    {
     "name": "stdout",
     "output_type": "stream",
     "text": [
      "Train Epoch: 82 [0/60000 (0%)]\tLoss: 13132.755859\n",
      "Train Epoch: 82 [12800/60000 (21%)]\tLoss: 13919.937500\n",
      "Train Epoch: 82 [25600/60000 (43%)]\tLoss: 14971.541016\n",
      "Train Epoch: 82 [38400/60000 (64%)]\tLoss: 12762.953125\n",
      "Train Epoch: 82 [51200/60000 (85%)]\tLoss: 14042.254883\n"
     ]
    },
    {
     "name": "stderr",
     "output_type": "stream",
     "text": [
      "\r",
      " 83%|████████▎ | 83/100 [09:01<01:50,  6.53s/it]"
     ]
    },
    {
     "name": "stdout",
     "output_type": "stream",
     "text": [
      "Train Epoch: 83 [0/60000 (0%)]\tLoss: 12998.408203\n",
      "Train Epoch: 83 [12800/60000 (21%)]\tLoss: 13091.528320\n",
      "Train Epoch: 83 [25600/60000 (43%)]\tLoss: 12690.730469\n",
      "Train Epoch: 83 [38400/60000 (64%)]\tLoss: 12808.656250\n",
      "Train Epoch: 83 [51200/60000 (85%)]\tLoss: 13147.362305\n"
     ]
    },
    {
     "name": "stderr",
     "output_type": "stream",
     "text": [
      "\r",
      " 84%|████████▍ | 84/100 [09:08<01:44,  6.53s/it]"
     ]
    },
    {
     "name": "stdout",
     "output_type": "stream",
     "text": [
      "Train Epoch: 84 [0/60000 (0%)]\tLoss: 13752.850586\n",
      "Train Epoch: 84 [12800/60000 (21%)]\tLoss: 13412.165039\n",
      "Train Epoch: 84 [25600/60000 (43%)]\tLoss: 13218.511719\n",
      "Train Epoch: 84 [38400/60000 (64%)]\tLoss: 13562.944336\n",
      "Train Epoch: 84 [51200/60000 (85%)]\tLoss: 13467.343750\n"
     ]
    },
    {
     "name": "stderr",
     "output_type": "stream",
     "text": [
      "\r",
      " 85%|████████▌ | 85/100 [09:14<01:37,  6.53s/it]"
     ]
    },
    {
     "name": "stdout",
     "output_type": "stream",
     "text": [
      "Train Epoch: 85 [0/60000 (0%)]\tLoss: 13986.191406\n",
      "Train Epoch: 85 [12800/60000 (21%)]\tLoss: 13515.465820\n",
      "Train Epoch: 85 [25600/60000 (43%)]\tLoss: 13305.115234\n",
      "Train Epoch: 85 [38400/60000 (64%)]\tLoss: 13752.007812\n",
      "Train Epoch: 85 [51200/60000 (85%)]\tLoss: 13626.476562\n"
     ]
    },
    {
     "name": "stderr",
     "output_type": "stream",
     "text": [
      "\r",
      " 86%|████████▌ | 86/100 [09:21<01:31,  6.52s/it]"
     ]
    },
    {
     "name": "stdout",
     "output_type": "stream",
     "text": [
      "Train Epoch: 86 [0/60000 (0%)]\tLoss: 14348.057617\n",
      "Train Epoch: 86 [12800/60000 (21%)]\tLoss: 13627.511719\n",
      "Train Epoch: 86 [25600/60000 (43%)]\tLoss: 12998.213867\n",
      "Train Epoch: 86 [38400/60000 (64%)]\tLoss: 14725.076172\n",
      "Train Epoch: 86 [51200/60000 (85%)]\tLoss: 13052.693359\n"
     ]
    },
    {
     "name": "stderr",
     "output_type": "stream",
     "text": [
      "\r",
      " 87%|████████▋ | 87/100 [09:27<01:24,  6.52s/it]"
     ]
    },
    {
     "name": "stdout",
     "output_type": "stream",
     "text": [
      "Train Epoch: 87 [0/60000 (0%)]\tLoss: 13346.371094\n",
      "Train Epoch: 87 [12800/60000 (21%)]\tLoss: 13305.921875\n",
      "Train Epoch: 87 [25600/60000 (43%)]\tLoss: 13120.738281\n",
      "Train Epoch: 87 [38400/60000 (64%)]\tLoss: 14194.780273\n",
      "Train Epoch: 87 [51200/60000 (85%)]\tLoss: 13751.286133\n"
     ]
    },
    {
     "name": "stderr",
     "output_type": "stream",
     "text": [
      "\r",
      " 88%|████████▊ | 88/100 [09:33<01:18,  6.52s/it]"
     ]
    },
    {
     "name": "stdout",
     "output_type": "stream",
     "text": [
      "Train Epoch: 88 [0/60000 (0%)]\tLoss: 13270.529297\n",
      "Train Epoch: 88 [12800/60000 (21%)]\tLoss: 13289.017578\n",
      "Train Epoch: 88 [25600/60000 (43%)]\tLoss: 12984.029297\n",
      "Train Epoch: 88 [38400/60000 (64%)]\tLoss: 13860.060547\n",
      "Train Epoch: 88 [51200/60000 (85%)]\tLoss: 14613.699219\n"
     ]
    },
    {
     "name": "stderr",
     "output_type": "stream",
     "text": [
      "\r",
      " 89%|████████▉ | 89/100 [09:40<01:11,  6.52s/it]"
     ]
    },
    {
     "name": "stdout",
     "output_type": "stream",
     "text": [
      "Train Epoch: 89 [0/60000 (0%)]\tLoss: 13515.214844\n",
      "Train Epoch: 89 [12800/60000 (21%)]\tLoss: 13544.310547\n",
      "Train Epoch: 89 [25600/60000 (43%)]\tLoss: 13342.219727\n",
      "Train Epoch: 89 [38400/60000 (64%)]\tLoss: 13389.419922\n",
      "Train Epoch: 89 [51200/60000 (85%)]\tLoss: 12997.748047\n"
     ]
    },
    {
     "name": "stderr",
     "output_type": "stream",
     "text": [
      "\r",
      " 90%|█████████ | 90/100 [09:46<01:05,  6.51s/it]"
     ]
    },
    {
     "name": "stdout",
     "output_type": "stream",
     "text": [
      "Train Epoch: 90 [0/60000 (0%)]\tLoss: 13041.450195\n",
      "Train Epoch: 90 [12800/60000 (21%)]\tLoss: 13402.558594\n",
      "Train Epoch: 90 [25600/60000 (43%)]\tLoss: 12815.189453\n",
      "Train Epoch: 90 [38400/60000 (64%)]\tLoss: 12822.852539\n",
      "Train Epoch: 90 [51200/60000 (85%)]\tLoss: 13302.017578\n"
     ]
    },
    {
     "name": "stderr",
     "output_type": "stream",
     "text": [
      "\r",
      " 91%|█████████ | 91/100 [09:52<00:58,  6.51s/it]"
     ]
    },
    {
     "name": "stdout",
     "output_type": "stream",
     "text": [
      "Train Epoch: 91 [0/60000 (0%)]\tLoss: 14780.472656\n",
      "Train Epoch: 91 [12800/60000 (21%)]\tLoss: 13221.514648\n",
      "Train Epoch: 91 [25600/60000 (43%)]\tLoss: 13742.701172\n",
      "Train Epoch: 91 [38400/60000 (64%)]\tLoss: 13004.342773\n",
      "Train Epoch: 91 [51200/60000 (85%)]\tLoss: 13207.597656\n"
     ]
    },
    {
     "name": "stderr",
     "output_type": "stream",
     "text": [
      "\r",
      " 92%|█████████▏| 92/100 [09:58<00:52,  6.51s/it]"
     ]
    },
    {
     "name": "stdout",
     "output_type": "stream",
     "text": [
      "Train Epoch: 92 [0/60000 (0%)]\tLoss: 13326.758789\n",
      "Train Epoch: 92 [12800/60000 (21%)]\tLoss: 13750.782227\n",
      "Train Epoch: 92 [25600/60000 (43%)]\tLoss: 12672.912109\n",
      "Train Epoch: 92 [38400/60000 (64%)]\tLoss: 13003.648438\n",
      "Train Epoch: 92 [51200/60000 (85%)]\tLoss: 13339.082031\n"
     ]
    },
    {
     "name": "stderr",
     "output_type": "stream",
     "text": [
      "\r",
      " 93%|█████████▎| 93/100 [10:04<00:45,  6.50s/it]"
     ]
    },
    {
     "name": "stdout",
     "output_type": "stream",
     "text": [
      "Train Epoch: 93 [0/60000 (0%)]\tLoss: 13227.486328\n",
      "Train Epoch: 93 [12800/60000 (21%)]\tLoss: 12936.884766\n",
      "Train Epoch: 93 [25600/60000 (43%)]\tLoss: 12894.781250\n",
      "Train Epoch: 93 [38400/60000 (64%)]\tLoss: 12416.418945\n",
      "Train Epoch: 93 [51200/60000 (85%)]\tLoss: 13161.404297\n"
     ]
    },
    {
     "name": "stderr",
     "output_type": "stream",
     "text": [
      "\r",
      " 94%|█████████▍| 94/100 [10:11<00:39,  6.50s/it]"
     ]
    },
    {
     "name": "stdout",
     "output_type": "stream",
     "text": [
      "Train Epoch: 94 [0/60000 (0%)]\tLoss: 13045.841797\n",
      "Train Epoch: 94 [12800/60000 (21%)]\tLoss: 14802.811523\n",
      "Train Epoch: 94 [25600/60000 (43%)]\tLoss: 13193.416016\n",
      "Train Epoch: 94 [38400/60000 (64%)]\tLoss: 13402.007812\n",
      "Train Epoch: 94 [51200/60000 (85%)]\tLoss: 13738.588867\n"
     ]
    },
    {
     "name": "stderr",
     "output_type": "stream",
     "text": [
      "\r",
      " 95%|█████████▌| 95/100 [10:17<00:32,  6.50s/it]"
     ]
    },
    {
     "name": "stdout",
     "output_type": "stream",
     "text": [
      "Train Epoch: 95 [0/60000 (0%)]\tLoss: 12049.022461\n",
      "Train Epoch: 95 [12800/60000 (21%)]\tLoss: 13025.552734\n",
      "Train Epoch: 95 [25600/60000 (43%)]\tLoss: 14382.916992\n",
      "Train Epoch: 95 [38400/60000 (64%)]\tLoss: 13619.482422\n",
      "Train Epoch: 95 [51200/60000 (85%)]\tLoss: 13292.644531\n"
     ]
    },
    {
     "name": "stderr",
     "output_type": "stream",
     "text": [
      "\r",
      " 96%|█████████▌| 96/100 [10:23<00:25,  6.50s/it]"
     ]
    },
    {
     "name": "stdout",
     "output_type": "stream",
     "text": [
      "Train Epoch: 96 [0/60000 (0%)]\tLoss: 13432.544922\n",
      "Train Epoch: 96 [12800/60000 (21%)]\tLoss: 13729.944336\n",
      "Train Epoch: 96 [25600/60000 (43%)]\tLoss: 13198.252930\n",
      "Train Epoch: 96 [38400/60000 (64%)]\tLoss: 13425.252930\n",
      "Train Epoch: 96 [51200/60000 (85%)]\tLoss: 12677.130859\n"
     ]
    },
    {
     "name": "stderr",
     "output_type": "stream",
     "text": [
      "\r",
      " 97%|█████████▋| 97/100 [10:30<00:19,  6.50s/it]"
     ]
    },
    {
     "name": "stdout",
     "output_type": "stream",
     "text": [
      "Train Epoch: 97 [0/60000 (0%)]\tLoss: 13399.488281\n",
      "Train Epoch: 97 [12800/60000 (21%)]\tLoss: 12999.932617\n",
      "Train Epoch: 97 [25600/60000 (43%)]\tLoss: 13803.412109\n",
      "Train Epoch: 97 [38400/60000 (64%)]\tLoss: 13919.029297\n",
      "Train Epoch: 97 [51200/60000 (85%)]\tLoss: 13647.878906\n"
     ]
    },
    {
     "name": "stderr",
     "output_type": "stream",
     "text": [
      "\r",
      " 98%|█████████▊| 98/100 [10:36<00:12,  6.50s/it]"
     ]
    },
    {
     "name": "stdout",
     "output_type": "stream",
     "text": [
      "Train Epoch: 98 [0/60000 (0%)]\tLoss: 14119.906250\n",
      "Train Epoch: 98 [12800/60000 (21%)]\tLoss: 13449.926758\n",
      "Train Epoch: 98 [25600/60000 (43%)]\tLoss: 13159.720703\n",
      "Train Epoch: 98 [38400/60000 (64%)]\tLoss: 13817.590820\n",
      "Train Epoch: 98 [51200/60000 (85%)]\tLoss: 13922.928711\n"
     ]
    },
    {
     "name": "stderr",
     "output_type": "stream",
     "text": [
      "\r",
      " 99%|█████████▉| 99/100 [10:42<00:06,  6.49s/it]"
     ]
    },
    {
     "name": "stdout",
     "output_type": "stream",
     "text": [
      "Train Epoch: 99 [0/60000 (0%)]\tLoss: 13015.423828\n",
      "Train Epoch: 99 [12800/60000 (21%)]\tLoss: 14232.291992\n",
      "Train Epoch: 99 [25600/60000 (43%)]\tLoss: 12676.036133\n",
      "Train Epoch: 99 [38400/60000 (64%)]\tLoss: 12832.327148\n",
      "Train Epoch: 99 [51200/60000 (85%)]\tLoss: 14001.034180\n"
     ]
    },
    {
     "name": "stderr",
     "output_type": "stream",
     "text": [
      "\r",
      "100%|██████████| 100/100 [10:49<00:00,  6.49s/it]"
     ]
    },
    {
     "name": "stdout",
     "output_type": "stream",
     "text": [
      "Seconds for 100 epcohs: 649\n"
     ]
    },
    {
     "name": "stderr",
     "output_type": "stream",
     "text": [
      "\n"
     ]
    }
   ],
   "source": [
    "t = time.time()\n",
    "ep = 100\n",
    "VAE_NN.train(test,optimizer,train_data, VAE_NN.elbo_loss, epochs = ep)\n",
    "t_e = time.time() - t\n",
    "print('Seconds for %d epcohs: %d' % (ep,t_e))"
   ]
  },
  {
   "cell_type": "code",
   "execution_count": 9,
   "metadata": {
    "collapsed": true
   },
   "outputs": [],
   "source": [
    "t_data,_ = next(iter(train_data))"
   ]
  },
  {
   "cell_type": "code",
   "execution_count": 10,
   "metadata": {
    "collapsed": true
   },
   "outputs": [],
   "source": [
    "t_data = Variable(t_data).view(-1,784)"
   ]
  },
  {
   "cell_type": "code",
   "execution_count": 28,
   "metadata": {
    "collapsed": true
   },
   "outputs": [],
   "source": [
    "i = 3"
   ]
  },
  {
   "cell_type": "code",
   "execution_count": 29,
   "metadata": {
    "scrolled": false
   },
   "outputs": [
    {
     "data": {
      "image/png": "[encoded data removed]",
      "text/plain": [
       "<matplotlib.figure.Figure at 0x7f70163f19e8>"
      ]
     },
     "metadata": {},
     "output_type": "display_data"
    }
   ],
   "source": [
    "plt.imshow(np.reshape(t_data[i].data.cpu().numpy(),(28,28)), cmap='gray')\n",
    "plt.show()"
   ]
  },
  {
   "cell_type": "markdown",
   "metadata": {},
   "source": [
    "Try to reconstruct the above:"
   ]
  },
  {
   "cell_type": "code",
   "execution_count": 31,
   "metadata": {},
   "outputs": [
    {
     "data": {
      "image/png": "[encoded data removed]",
      "text/plain": [
       "<matplotlib.figure.Figure at 0x7f7014d8ecf8>"
      ]
     },
     "metadata": {},
     "output_type": "display_data"
    }
   ],
   "source": [
    "a,b,c = test(t_data[i].cuda())\n",
    "\n",
    "im_t = a\n",
    "\n",
    "im_t = im_t.data.cpu().numpy()\n",
    "\n",
    "plt.imshow(np.reshape(im_t,(28,28)),cmap='gray')\n",
    "plt.show()"
   ]
  },
  {
   "cell_type": "markdown",
   "metadata": {},
   "source": [
    "The below generates an image from white noise"
   ]
  },
  {
   "cell_type": "code",
   "execution_count": 21,
   "metadata": {
    "scrolled": true
   },
   "outputs": [
    {
     "data": {
      "image/png": "[encoded data removed]",
      "text/plain": [
       "<matplotlib.figure.Figure at 0x7f7016442208>"
      ]
     },
     "metadata": {},
     "output_type": "display_data"
    }
   ],
   "source": [
    "a = test.sample()\n",
    "\n",
    "a = test.decode(a)\n",
    "\n",
    "im_t = a\n",
    "\n",
    "im_t = im_t.data.cpu().numpy()\n",
    "\n",
    "plt.imshow(np.reshape(im_t,(28,28)),cmap='gray')\n",
    "plt.show()"
   ]
  }
 ],
 "metadata": {
  "kernelspec": {
   "display_name": "Python 3",
   "language": "python",
   "name": "python3"
  },
  "language_info": {
   "codemirror_mode": {
    "name": "ipython",
    "version": 3
   },
   "file_extension": ".py",
   "mimetype": "text/x-python",
   "name": "python",
   "nbconvert_exporter": "python",
   "pygments_lexer": "ipython3",
   "version": "3.6.3"
  }
 },
 "nbformat": 4,
 "nbformat_minor": 2
}
